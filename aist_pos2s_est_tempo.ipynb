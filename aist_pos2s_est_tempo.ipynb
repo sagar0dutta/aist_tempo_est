{
 "cells": [
  {
   "cell_type": "code",
   "execution_count": 3,
   "metadata": {},
   "outputs": [],
   "source": [
    "import os\n",
    "import json\n",
    "import pickle\n",
    "import numpy as np\n",
    "import pandas as pd\n",
    "from tqdm import tqdm\n",
    "from scipy import stats\n",
    "import matplotlib.pyplot as plt\n",
    "from compute_tempo_aist import *\n",
    "from aist_pos2s_script import *\n",
    "# coco={    \n",
    "# 0: \"nose\", 1: \"left_eye\", 2: \"right_eye\", 3: \"left_ear\",4: \"right_ear\",5: \"left_shoulder\",\n",
    "# 6: \"right_shoulder\",7: \"left_elbow\",8: \"right_elbow\",9: \"left_wrist\",10: \"right_wrist\",\n",
    "# 11: \"left_hip\",12: \"right_hip\",13: \"left_knee\",14: \"right_knee\",15: \"left_ankle\",16: \"right_ankle\",}  \n",
    "\n",
    "# # cp ./video/gKR_sBM_c01_d28_mKR3_ch03.mp4 ./"
   ]
  },
  {
   "cell_type": "code",
   "execution_count": 2,
   "metadata": {},
   "outputs": [],
   "source": [
    "def create_dir(tempo_dir):\n",
    "    \n",
    "    main_dir = \"/itf-fi-ml/home/sagardu/aist_tempo_est/results/two_sensor\"\n",
    "    \n",
    "    directories = [\n",
    "        f\"{tempo_dir}/pos/foot\", f\"{tempo_dir}/pos/hand\", \n",
    "        f\"{tempo_dir}/pos/score/foot\", f\"{tempo_dir}/pos/score/hand\",\n",
    "        f\"{tempo_dir}/pos/tempo_data/ax0\", f\"{tempo_dir}/pos/tempo_data/ax1\",\n",
    "        \n",
    "        f\"{tempo_dir}/vel/foot\", f\"{tempo_dir}/vel/hand\", \n",
    "        f\"{tempo_dir}/vel/score/foot\", f\"{tempo_dir}/vel/score/hand\",\n",
    "        f\"{tempo_dir}/vel/tempo_data/ax0\", f\"{tempo_dir}/vel/tempo_data/ax1\",\n",
    "        \n",
    "        f\"{tempo_dir}/stats_pos/uni\", f\"{tempo_dir}/stats_pos/bi\",\n",
    "        f\"{tempo_dir}/stats_vel/uni\", f\"{tempo_dir}/stats_vel/bi\",\n",
    "        f\"{tempo_dir}/stats_posvel/uni\", f\"{tempo_dir}/stats_posvel/bi\"\n",
    "    ]\n",
    "    \n",
    "    for dir_path in directories:\n",
    "        full_path = os.path.join(main_dir, dir_path)\n",
    "        os.makedirs(full_path, exist_ok=True)"
   ]
  },
  {
   "cell_type": "code",
   "execution_count": 7,
   "metadata": {},
   "outputs": [
    {
     "name": "stderr",
     "output_type": "stream",
     "text": [
      "100%|██████████| 1510/1510 [01:30<00:00, 16.67it/s]\n"
     ]
    },
    {
     "name": "stdout",
     "output_type": "stream",
     "text": [
      "Results saved to ./results/two_sensor/tempo_60_140/pos/hand/hand_zero_uni_60_140.csv\n"
     ]
    },
    {
     "name": "stderr",
     "output_type": "stream",
     "text": [
      "100%|██████████| 1510/1510 [01:36<00:00, 15.57it/s]\n"
     ]
    },
    {
     "name": "stdout",
     "output_type": "stream",
     "text": [
      "Results saved to ./results/two_sensor/tempo_60_140/vel/hand/hand_zero_uni_60_140.csv\n"
     ]
    },
    {
     "name": "stderr",
     "output_type": "stream",
     "text": [
      "100%|██████████| 1510/1510 [01:22<00:00, 18.31it/s]\n"
     ]
    },
    {
     "name": "stdout",
     "output_type": "stream",
     "text": [
      "Results saved to ./results/two_sensor/tempo_60_140/pos/hand/hand_zero_bi_60_140.csv\n"
     ]
    },
    {
     "name": "stderr",
     "output_type": "stream",
     "text": [
      "100%|██████████| 1510/1510 [01:12<00:00, 20.83it/s]\n"
     ]
    },
    {
     "name": "stdout",
     "output_type": "stream",
     "text": [
      "Results saved to ./results/two_sensor/tempo_60_140/vel/hand/hand_zero_bi_60_140.csv\n"
     ]
    },
    {
     "name": "stderr",
     "output_type": "stream",
     "text": [
      "100%|██████████| 1510/1510 [01:14<00:00, 20.16it/s]\n"
     ]
    },
    {
     "name": "stdout",
     "output_type": "stream",
     "text": [
      "Results saved to ./results/two_sensor/tempo_60_140/pos/foot/foot_zero_uni_60_140.csv\n"
     ]
    },
    {
     "name": "stderr",
     "output_type": "stream",
     "text": [
      "100%|██████████| 1510/1510 [01:13<00:00, 20.63it/s]\n"
     ]
    },
    {
     "name": "stdout",
     "output_type": "stream",
     "text": [
      "Results saved to ./results/two_sensor/tempo_60_140/vel/foot/foot_zero_uni_60_140.csv\n"
     ]
    },
    {
     "name": "stderr",
     "output_type": "stream",
     "text": [
      "100%|██████████| 1510/1510 [01:12<00:00, 20.90it/s]\n"
     ]
    },
    {
     "name": "stdout",
     "output_type": "stream",
     "text": [
      "Results saved to ./results/two_sensor/tempo_60_140/pos/foot/foot_zero_bi_60_140.csv\n"
     ]
    },
    {
     "name": "stderr",
     "output_type": "stream",
     "text": [
      "100%|██████████| 1510/1510 [01:10<00:00, 21.29it/s]\n"
     ]
    },
    {
     "name": "stdout",
     "output_type": "stream",
     "text": [
      "Results saved to ./results/two_sensor/tempo_60_140/vel/foot/foot_zero_bi_60_140.csv\n"
     ]
    }
   ],
   "source": [
    "\n",
    "marker_dict = {9: \"left_wrist\", 10: \"right_wrist\", \n",
    "                15: \"left_ankle\", 16: \"right_ankle\", \n",
    "                }   # 11: \"left_hip\",12: \"right_hip\"\n",
    "\n",
    "config1 = {\"sub_dir\": [\"hand\"], \"mode\": [\"zero_uni\", \"zero_bi\"], \n",
    "           \"markerA_id\": 9, \"markerB_id\": 10, \"a\": 60, \"b\": 140, \"metric\": [\"pos\", \"vel\"]}\n",
    "config2 = {\"sub_dir\": [\"foot\"], \"mode\": [\"zero_uni\", \"zero_bi\"], \n",
    "           \"markerA_id\": 15, \"markerB_id\": 16, \"a\": 60, \"b\": 140, \"metric\": [\"pos\", \"vel\"]}\n",
    "\n",
    "configs = [config1, config2]\n",
    "\n",
    "for cfg in configs:\n",
    "    a = cfg[\"a\"]\n",
    "    b = cfg[\"b\"]\n",
    "    markerA_id = cfg[\"markerA_id\"]\n",
    "    markerB_id = cfg[\"markerB_id\"]\n",
    "    create_dir(f\"tempo_{a}_{b}\")\n",
    "    \n",
    "    for sub_dir in cfg[\"sub_dir\"]:\n",
    "        for mode in cfg[\"mode\"]:\n",
    "            for metric in cfg[\"metric\"]:\n",
    "                \n",
    "                savepath = f\"./results/two_sensor/tempo_{a}_{b}/{metric}/tempo_data\"\n",
    "                csv_filename = f\"./results/two_sensor/tempo_{a}_{b}/{metric}/{sub_dir}/{sub_dir}_{mode}_{a}_{b}.csv\"  \n",
    "                \n",
    "                aist_pos2s(a,b, mode, markerA_id, markerB_id, csv_filename, savepath,\n",
    "                           w_sec = 5, vel_mode = \"on\" if metric == \"vel\" else \"off\")"
   ]
  },
  {
   "cell_type": "code",
   "execution_count": null,
   "metadata": {},
   "outputs": [],
   "source": [
    "result = {\n",
    "    \"filename\": [],\n",
    "    \"dance_genre\": [],\n",
    "    \"situation\": [],\n",
    "    \"camera_id\": [],\n",
    "    \"dancer_id\": [],\n",
    "    \"music_id\": [],\n",
    "    \"choreo_id\": [],\n",
    "    \"music_tempo\": [],\n",
    "\n",
    "    \"X_a\": [],\n",
    "    \"Y_a\": [],\n",
    "\n",
    "    \"bpm_mode\": [],\n",
    "    \"bpm_median\": [],\n",
    "    \"mode_x\": [],\n",
    "    \"mode_y\": [],\n",
    "\n",
    "    \"median_x\": [],\n",
    "    \"median_y\": [],\n",
    "}\n",
    "\n",
    "json_filename = \"music_id_tempo.json\"\n",
    "with open(json_filename, \"r\") as file:\n",
    "    aist_tempo = json.load(file)\n",
    "\n",
    "f_path = \"./aist_dataset/aist_annotation/keypoints2d\"\n",
    "aist_filelist = os.listdir(f_path)\n",
    "\n",
    "mocap_fps = 60\n",
    "a = 60; b =180\n",
    "tempi_range = np.arange(a,b,1)   # good: 70,145 \n",
    "\n",
    "marker_dict = {9: \"left_wrist\", 10: \"right_wrist\", \n",
    "               15: \"left_ankle\", 16: \"right_ankle\", \n",
    "               11: \"left_hip\",12: \"right_hip\"}\n",
    "sub_dir = \"hips\" \n",
    "mode = \"zero_bi\" \n",
    "markerA_id = 11\n",
    "markerB_id = 12\n",
    "csv_filename = f\"./results/aist_pos2s/tempo_{a}_{b}/{sub_dir}/{sub_dir}_{mode}_{a}_{b}.csv\"        \n",
    "\n",
    "\n",
    "for idx, filename in enumerate(tqdm(aist_filelist)):\n",
    "    \n",
    "    file_path = os.path.join(f_path, filename)\n",
    "    file_info = filename.split(\"_\")\n",
    "    dance_genre = file_info[0] \n",
    "    situation = file_info[1] \n",
    "    camera_id = file_info[2] \n",
    "    dancer_id = file_info[3]\n",
    "    music_id = file_info[4]\n",
    "    choreo_id = file_info[5].strip(\".pkl\")\n",
    "    \n",
    "    with open(file_path, 'rb') as file:\n",
    "        motion_data = pickle.load(file)\n",
    "\n",
    "    markerA_x = motion_data[\"keypoints2d\"][0, :, markerA_id, 0]     # array (n,)\n",
    "    markerA_y = motion_data[\"keypoints2d\"][0, :, markerA_id, 1]      # array (n,)\n",
    "    \n",
    "    markerB_x = motion_data[\"keypoints2d\"][0, :, markerB_id, 0]     # array (n,)\n",
    "    markerB_y = motion_data[\"keypoints2d\"][0, :, markerB_id, 1]      # array (n,)\n",
    "    \n",
    "\n",
    "    if np.all((markerA_x == 0) & (markerA_y == 0)) or np.any(np.isnan(markerA_x) | np.isnan(markerA_y)):\n",
    "        continue\n",
    "    \n",
    "    markerA_x = detrend_signal_array(markerA_x.reshape(-1, 1), cutoff= 1, fs=60)\n",
    "    markerA_y = detrend_signal_array(markerA_y.reshape(-1, 1), cutoff= 1, fs=60)\n",
    "    markerA_pos = np.concatenate((markerA_x, markerA_y), axis=1)  # size (n,2)\n",
    "    \n",
    "    markerB_x = detrend_signal_array(markerB_x.reshape(-1, 1), cutoff= 1, fs=60)\n",
    "    markerB_y = detrend_signal_array(markerB_y.reshape(-1, 1), cutoff= 1, fs=60)\n",
    "    markerB_pos = np.concatenate((markerB_x, markerB_y), axis=1)  # size (n,2)\n",
    "    \n",
    "    \n",
    "    \n",
    "    duration = int(len(markerA_x)/60)\n",
    "    w_sec = int(duration)\n",
    "    h_sec = int(w_sec/4)\n",
    "    window_size = int(mocap_fps*w_sec)\n",
    "    hop_size = int(mocap_fps*h_sec)\n",
    "    \n",
    "    bpm_axes = []\n",
    "    for ax in range(2):\n",
    "    \n",
    "        posA_min, posA_max = np.min(markerA_pos[:, ax]), np.max(markerA_pos[:, ax])\n",
    "        sensorA_position_norm = (\n",
    "                2*(markerA_pos[:, ax] - posA_min) / (posA_max - posA_min) - 1\n",
    "                if posA_max != posA_min \n",
    "                else np.zeros_like(markerA_pos[:, ax])\n",
    "            )\n",
    "\n",
    "        posB_min, posB_max = np.min(markerB_pos[:, ax]), np.max(markerB_pos[:, ax])\n",
    "        sensorB_position_norm = (\n",
    "                2*(markerB_pos[:, ax] - posB_min) / (posB_max - posB_min) - 1\n",
    "                if posB_max != posB_min\n",
    "                else np.zeros_like(markerB_pos[:, ax])\n",
    "            )\n",
    "        \n",
    "        \n",
    "        tempo_json = main_two_sensor(sensorA_position_norm.reshape(-1,1), sensorB_position_norm.reshape(-1,1),  \n",
    "                                    mocap_fps, window_size, hop_size, tempi_range,\n",
    "                                    T_filter= 0.25, smooth_wlen= 10, pk_order = 15, mode=mode)\n",
    "    \n",
    "        tempo_data_maxmethod = tempo_json[\"tempo_data_maxmethod\"]\n",
    "        bpmA_arr = tempo_data_maxmethod[\"bpm_arr\"]\n",
    "        tempo_A = np.round(np.average(bpmA_arr), 2)\n",
    "        bpm_axes.append(bpmA_arr)\n",
    "        \n",
    "        mode_x = stats.mode(bpmA_arr.flatten())[0]\n",
    "        mode_y = stats.mode(bpmA_arr.flatten())[0]\n",
    "\n",
    "        median_x = np.median(bpmA_arr.flatten())\n",
    "        median_y = np.median(bpmA_arr.flatten())\n",
    "\n",
    "        \n",
    "        if ax == 0:\n",
    "            result[\"filename\"].append(filename.strip(\".pkl\"))\n",
    "            result[\"dance_genre\"].append(dance_genre)\n",
    "            result[\"situation\"].append(situation)\n",
    "            result[\"camera_id\"].append(camera_id)\n",
    "            result[\"dancer_id\"].append(dancer_id)\n",
    "            result[\"music_id\"].append(music_id)\n",
    "            result[\"choreo_id\"].append(choreo_id)\n",
    "            result[\"music_tempo\"].append(aist_tempo[music_id])\n",
    "            \n",
    "            result[\"mode_x\"].append(mode_x)\n",
    "            result[\"mode_y\"].append(mode_y)\n",
    "\n",
    "            \n",
    "            result[\"median_x\"].append(median_x)\n",
    "            result[\"median_y\"].append(median_y)\n",
    "\n",
    "            \n",
    "            result[\"X_a\"].append(tempo_A)\n",
    "\n",
    "        elif ax == 1:\n",
    "            result[\"Y_a\"].append(tempo_A)\n",
    "\n",
    "    bpm_axes_arr = np.column_stack(bpm_axes)    # n by 3 array\n",
    "    bpm_mode = stats.mode(bpm_axes_arr.flatten())[0]\n",
    "    bpm_median = np.median(bpm_axes_arr.flatten())\n",
    "    result[\"bpm_mode\"].append(bpm_mode)\n",
    "    result[\"bpm_median\"].append(bpm_median)    \n",
    "    \n",
    "    # if idx == 6:\n",
    "    #     break    \n",
    "    \n",
    "results_df = pd.DataFrame(result)\n",
    "\n",
    "results_df.to_csv(csv_filename, index=False)\n",
    "print(f\"Results saved to {csv_filename}\")         \n",
    "\n",
    "    \n",
    "\n"
   ]
  },
  {
   "cell_type": "code",
   "execution_count": null,
   "metadata": {},
   "outputs": [],
   "source": [
    "# Extract x and y positions for the given keypoint\n",
    "markerA_x = motion_data[\"keypoints2d\"][0, :, 10, 0]\n",
    "markerA_y = motion_data[\"keypoints2d\"][0, :, 10, 1]\n",
    "\n",
    "# Normalize x and y to [0,1] range\n",
    "x_min, x_max = np.min(markerA_x), np.max(markerA_x)\n",
    "y_min, y_max = np.min(markerA_y), np.max(markerA_y)\n",
    "\n",
    "x_norm = (markerA_x - x_min) / (x_max - x_min) if x_max != x_min else np.zeros_like(markerA_x)\n",
    "y_norm = (markerA_y - y_min) / (y_max - y_min) if y_max != y_min else np.zeros_like(markerA_y)\n",
    "\n",
    "# Smooth the normalized position data\n",
    "xs = smooth_velocity(x_norm.reshape(-1, 1), abs=\"no\", window_length=10, polyorder=0)\n",
    "ys = smooth_velocity(y_norm.reshape(-1, 1), abs=\"no\", window_length=10, polyorder=0)\n",
    "\n",
    "\n",
    "# Plot position and velocity\n",
    "fig, axs = plt.subplots(1, 2, figsize=(10, 4), dpi=100)\n",
    "fig.suptitle('Position and Velocity')\n",
    "\n",
    "# Position plots\n",
    "axs[0].plot(xs, label=\"x position\")\n",
    "axs[1].plot(ys, label=\"y position\")\n",
    "axs[0].set_title(\"X Position\")\n",
    "axs[1].set_title(\"Y Position\")\n",
    "\n",
    "# Formatting\n",
    "for ax in axs.flat:\n",
    "    ax.legend()\n",
    "    ax.grid(True)\n",
    "\n",
    "plt.tight_layout()\n",
    "plt.show()\n"
   ]
  }
 ],
 "metadata": {
  "kernelspec": {
   "display_name": "base",
   "language": "python",
   "name": "python3"
  },
  "language_info": {
   "codemirror_mode": {
    "name": "ipython",
    "version": 3
   },
   "file_extension": ".py",
   "mimetype": "text/x-python",
   "name": "python",
   "nbconvert_exporter": "python",
   "pygments_lexer": "ipython3",
   "version": "3.12.9"
  }
 },
 "nbformat": 4,
 "nbformat_minor": 2
}
