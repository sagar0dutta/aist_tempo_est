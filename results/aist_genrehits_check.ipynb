{
 "cells": [
  {
   "cell_type": "code",
   "execution_count": 61,
   "metadata": {},
   "outputs": [],
   "source": [
    "import os\n",
    "import ast\n",
    "import json\n",
    "import numpy as np\n",
    "import seaborn as sns\n",
    "import pandas as pd\n",
    "from dance_evaluation import *\n",
    "import matplotlib.pyplot as plt"
   ]
  },
  {
   "cell_type": "code",
   "execution_count": 62,
   "metadata": {},
   "outputs": [],
   "source": [
    "mode = \"uni\"\n",
    "foot_1S_df = pd.read_csv(f\"./aist_pos1s/foot/foot_zero_{mode}_70_145.csv\")\n",
    "foot_2S_df = pd.read_csv(f\"./aist_pos2s/foot/foot_zero_{mode}_70_145.csv\")\n",
    "\n",
    "foot_1s_score = pd.read_csv(f\"./aist_pos1s/foot/foot_{mode}_70_145_score.csv\")\n",
    "hand_1s_score = pd.read_csv(f\"./aist_pos1s/hand/hand_{mode}_70_145_score.csv\")\n",
    "\n",
    "foot_2s_score = pd.read_csv(f\"./aist_pos2s/foot/foot_{mode}_70_145_score.csv\")\n",
    "hand_2s_score = pd.read_csv(f\"./aist_pos2s/hand/hand_{mode}_70_145_score.csv\")\n",
    "\n",
    "foot_1s_score[\"hits_idx\"] = foot_1s_score[\"hits_idx\"].apply(ast.literal_eval)\n",
    "hand_1s_score[\"hits_idx\"] = hand_1s_score[\"hits_idx\"].apply(ast.literal_eval)\n",
    "\n",
    "foot_2s_score[\"hits_idx\"] = foot_2s_score[\"hits_idx\"].apply(ast.literal_eval)\n",
    "hand_2s_score[\"hits_idx\"] = hand_2s_score[\"hits_idx\"].apply(ast.literal_eval)\n",
    "\n",
    "total = foot_1S_df.shape[0]\n",
    "\n",
    "# genre id and total count mapping\n",
    "json_filename = \"genreID_count_mapping.json\"\n",
    "with open(json_filename, \"r\") as file:\n",
    "    genre_Tcount = json.load(file)\n",
    "    \n",
    "# genre id and name mapping\n",
    "json_filename = \"genre_symbols_mapping.json\"\n",
    "with open(json_filename, \"r\") as file:\n",
    "    genre_name = json.load(file)  "
   ]
  },
  {
   "cell_type": "code",
   "execution_count": 63,
   "metadata": {},
   "outputs": [
    {
     "name": "stdout",
     "output_type": "stream",
     "text": [
      "**********1-Sensor uni**********\n",
      "total: 1341\n",
      "foot hits: 585 (43.62 %)\n",
      "hand hits: 671 (50.04 %)\n",
      "combined hits: 909 (67.79 %)\n",
      "common hits: 347\n",
      "foot - common: 238\n",
      "hand - common: 324\n",
      "**********2-Sensor uni**********\n",
      "total: 1341\n",
      "foot hits: 566 (42.21 %)\n",
      "hand hits: 655 (48.84 %)\n",
      "combined hits: 861 (64.21 %)\n",
      "common hits: 360\n",
      "foot - common: 206\n",
      "hand - common: 295\n"
     ]
    }
   ],
   "source": [
    "def calc_hits(foot_score, hand_score):\n",
    "\n",
    "    foot_hits = set(foot_score)\n",
    "    hand_hits = set(hand_score)\n",
    "    combined_hits = foot_hits.union(hand_hits)\n",
    "    common_hits = foot_hits.intersection(hand_hits)\n",
    "    \n",
    "    print(\"total:\", total)\n",
    "    print(\"foot hits:\", len(foot_hits), f\"({round(len(foot_hits)*100/total, 2)} %)\" )\n",
    "    print(\"hand hits:\", len(hand_hits), f\"({round(len(hand_hits)*100/total, 2)} %)\" )\n",
    "    print(\"combined hits:\", len(combined_hits), f\"({round(len(combined_hits)*100/total, 2)} %)\" )\n",
    "    print(\"common hits:\", len(common_hits))\n",
    "    print(\"foot - common:\", len(foot_hits)-len(common_hits))\n",
    "    print(\"hand - common:\", len(hand_hits)-len(common_hits))\n",
    "    \n",
    "    return foot_hits, hand_hits, combined_hits, common_hits\n",
    "\n",
    "\n",
    "print(10*\"*\"+f\"1-Sensor {mode}\"+ 10*\"*\" )\n",
    "foot1S_hits, hand1S_hits, combined1S_hits, common1S_hits = calc_hits(foot_1s_score[\"hits_idx\"][3], hand_1s_score[\"hits_idx\"][3])\n",
    "\n",
    "print(10*\"*\"+f\"2-Sensor {mode}\"+ 10*\"*\" )\n",
    "foot2S_hits, hand2S_hits, combined2S_hits, common2S_hits = calc_hits(foot_2s_score[\"hits_idx\"][3], hand_2s_score[\"hits_idx\"][3])"
   ]
  },
  {
   "cell_type": "code",
   "execution_count": null,
   "metadata": {},
   "outputs": [
    {
     "name": "stdout",
     "output_type": "stream",
     "text": [
      "Break: 75 99 76 %\n",
      "House: 123 136 90 %\n",
      "Ballet Jazz: 79 136 58 %\n",
      "Street Jazz: 69 129 53 %\n",
      "Krump: 81 137 59 %\n",
      "LA style Hip-hop: 96 141 68 %\n",
      "Lock: 88 141 62 %\n",
      "Middle Hip-hop: 128 140 91 %\n",
      "Pop: 96 141 68 %\n",
      "Waack: 74 141 52 %\n",
      "\n",
      "\n",
      "Break: 66 99 67 %\n",
      "House: 129 136 95 %\n",
      "Ballet Jazz: 78 136 57 %\n",
      "Street Jazz: 71 129 55 %\n",
      "Krump: 79 137 58 %\n",
      "LA style Hip-hop: 89 141 63 %\n",
      "Lock: 69 141 49 %\n",
      "Middle Hip-hop: 115 140 82 %\n",
      "Pop: 86 141 61 %\n",
      "Waack: 79 141 56 %\n",
      "\n",
      "\n"
     ]
    }
   ],
   "source": [
    "L1 = [hand1S_hits, hand2S_hits]\n",
    "L1 = [foot1S_hits, foot2S_hits]\n",
    "L1 = [combined1S_hits, combined2S_hits]\n",
    "\n",
    "for item in L1:\n",
    "    hit1S_idx = list(item)\n",
    "    hit1S_df = foot_1S_df.iloc[hit1S_idx]\n",
    "    new = hit1S_df.groupby(['dance_genre']).size().to_dict()\n",
    "\n",
    "    for key, value in new.items():\n",
    "        print(f\"{genre_name.get(key)}:\", value, genre_Tcount.get(key), round(value*100/genre_Tcount.get(key)),\"%\")\n",
    "    print(\"\\n\")"
   ]
  },
  {
   "cell_type": "markdown",
   "metadata": {},
   "source": [
    "## SAVE CSV"
   ]
  },
  {
   "cell_type": "code",
   "execution_count": 52,
   "metadata": {},
   "outputs": [],
   "source": [
    "# SAVE TO CSV\n",
    "L1 = [foot2S_hits, hand2S_hits, combined2S_hits]\n",
    "file_names = [\"./stats/foot2S_hits.csv\", \"./stats/hand2S_hits.csv\", \"./stats/combined2S_hits.csv\"]\n",
    "\n",
    "# Save each hit data as a CSV file\n",
    "for item, file_name in zip(L1, file_names):\n",
    "    hit1S_idx = list(item)\n",
    "    hit1S_df = foot_1S_df.iloc[hit1S_idx]  # Ensure foot_1S_df is defined\n",
    "    new = hit1S_df.groupby(['dance_genre']).size().reset_index(name='count')\n",
    "\n",
    "    # Add total count and percentage columns\n",
    "    new['total_count'] = new['dance_genre'].map(genre_Tcount)\n",
    "    new['percentage'] = round((new['count'] / new['total_count']) * 100, 2)\n",
    "\n",
    "    # Save to CSV\n",
    "    new.to_csv(file_name, index=False)"
   ]
  }
 ],
 "metadata": {
  "kernelspec": {
   "display_name": "base",
   "language": "python",
   "name": "python3"
  },
  "language_info": {
   "codemirror_mode": {
    "name": "ipython",
    "version": 3
   },
   "file_extension": ".py",
   "mimetype": "text/x-python",
   "name": "python",
   "nbconvert_exporter": "python",
   "pygments_lexer": "ipython3",
   "version": "3.12.9"
  }
 },
 "nbformat": 4,
 "nbformat_minor": 2
}
