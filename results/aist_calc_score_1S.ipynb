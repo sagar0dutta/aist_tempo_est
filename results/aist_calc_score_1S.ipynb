{
 "cells": [
  {
   "cell_type": "code",
   "execution_count": 1,
   "metadata": {},
   "outputs": [],
   "source": [
    "import os\n",
    "import numpy as np\n",
    "import seaborn as sns\n",
    "import pandas as pd\n",
    "from dance_evaluation import *\n",
    "import matplotlib.pyplot as plt\n",
    "from calculate_score import *\n",
    "from collections import defaultdict"
   ]
  },
  {
   "cell_type": "code",
   "execution_count": 3,
   "metadata": {},
   "outputs": [
    {
     "name": "stdout",
     "output_type": "stream",
     "text": [
      "Score saved to ./aist_vel1s/z-score/tempo_70_145/score/hand/left_wrist_uni_70_145_score.csv\n",
      "Score saved to ./aist_vel1s/z-score/tempo_70_145/score/hand/left_wrist_bi_70_145_score.csv\n",
      "Score saved to ./aist_vel1s/z-score/tempo_70_145/score/hand/right_wrist_uni_70_145_score.csv\n",
      "Score saved to ./aist_vel1s/z-score/tempo_70_145/score/hand/right_wrist_bi_70_145_score.csv\n",
      "Score saved to ./aist_vel1s/z-score/tempo_70_145/score/foot/left_ankle_uni_70_145_score.csv\n",
      "Score saved to ./aist_vel1s/z-score/tempo_70_145/score/foot/left_ankle_bi_70_145_score.csv\n",
      "Score saved to ./aist_vel1s/z-score/tempo_70_145/score/foot/right_ankle_uni_70_145_score.csv\n",
      "Score saved to ./aist_vel1s/z-score/tempo_70_145/score/foot/right_ankle_bi_70_145_score.csv\n",
      "Score saved to ./aist_vel1s/z-score/tempo_60_180/score/hand/left_wrist_uni_60_180_score.csv\n",
      "Score saved to ./aist_vel1s/z-score/tempo_60_180/score/hand/left_wrist_bi_60_180_score.csv\n",
      "Score saved to ./aist_vel1s/z-score/tempo_60_180/score/hand/right_wrist_uni_60_180_score.csv\n",
      "Score saved to ./aist_vel1s/z-score/tempo_60_180/score/hand/right_wrist_bi_60_180_score.csv\n",
      "Score saved to ./aist_vel1s/z-score/tempo_60_180/score/foot/left_ankle_uni_60_180_score.csv\n",
      "Score saved to ./aist_vel1s/z-score/tempo_60_180/score/foot/left_ankle_bi_60_180_score.csv\n",
      "Score saved to ./aist_vel1s/z-score/tempo_60_180/score/foot/right_ankle_uni_60_180_score.csv\n",
      "Score saved to ./aist_vel1s/z-score/tempo_60_180/score/foot/right_ankle_bi_60_180_score.csv\n"
     ]
    }
   ],
   "source": [
    "\n",
    "\n",
    "config_hand1 = {\"a\": 70, \"b\": 145, \"base_dir\": \"hand\", \"marker_name\": [\"left_wrist\", \"right_wrist\"], \"modes\": [\"uni\", \"bi\"]}\n",
    "config_foot1 = {\"a\": 70, \"b\": 145, \"base_dir\": \"foot\", \"marker_name\": [\"left_ankle\", \"right_ankle\"], \"modes\": [\"uni\", \"bi\"]}\n",
    "\n",
    "config_hand2 = {\"a\": 60, \"b\": 180, \"base_dir\": \"hand\", \"marker_name\": [\"left_wrist\", \"right_wrist\"], \"modes\": [\"uni\", \"bi\"]}\n",
    "config_foot2 = {\"a\": 60, \"b\": 180, \"base_dir\": \"foot\", \"marker_name\": [\"left_ankle\", \"right_ankle\"], \"modes\": [\"uni\", \"bi\"]}\n",
    "\n",
    "configs = [config_hand1, config_foot1, config_hand2, config_foot2]\n",
    "\n",
    "for cfg in configs:\n",
    "    a = cfg[\"a\"]\n",
    "    b = cfg[\"b\"]\n",
    "    base_dir = cfg[\"base_dir\"]\n",
    "    for marker_name in cfg[\"marker_name\"]:\n",
    "        for mode in cfg[\"modes\"]:\n",
    "            read_path = f\"./aist_vel1s/z-score/tempo_{a}_{b}/{base_dir}/{marker_name}_zero_{mode}_{a}_{b}.csv\"\n",
    "            save_path = f'./aist_vel1s/z-score/tempo_{a}_{b}/score/{base_dir}/{marker_name}_{mode}_{a}_{b}_score.csv'\n",
    "            calc_score(mode, read_path, save_path)\n",
    "            \n"
   ]
  },
  {
   "cell_type": "code",
   "execution_count": null,
   "metadata": {},
   "outputs": [],
   "source": [
    "a = 70; b = 145\n",
    "base_dir = \"hand\"\n",
    "marker_name = \"left_wrist\"      # \"left_ankle\", \"right_ankle\", \"left_wrist\", \"right_wrist\"\n",
    "mode = f\"bi_{a}_{b}\"\n",
    "\n",
    "root_dir = f\"aist_pos1s/z-score/tempo_{a}_{b}\"\n",
    "\n",
    "df_results = pd.read_csv(f\"./{root_dir}/{base_dir}/{marker_name}_zero_{mode}.csv\")\n",
    "\n",
    "ref = df_results[\"music_tempo\"].to_numpy()\n",
    "bpm_avg_x = df_results[f\"bpm_avg_x\"].to_numpy()\n",
    "bpm_avg_y = df_results[f\"bpm_avg_y\"].to_numpy()\n",
    "bpm_avg_xy = df_results[f\"bpm_avg_xy\"].to_numpy()\n",
    "\n",
    "\n",
    "bpm_mode_x = df_results[f\"bpm_mode_x\"].to_numpy()\n",
    "bpm_mode_y = df_results[f\"bpm_mode_y\"].to_numpy()\n",
    "bpm_mode_xy = df_results[f\"bpm_mode_xy\"].to_numpy()\n",
    "\n",
    "bpm_median_x = df_results[f\"bpm_median_x\"].to_numpy()\n",
    "bpm_median_y = df_results[f\"bpm_median_y\"].to_numpy()\n",
    "bpm_median_xy = df_results[f\"bpm_median_xy\"].to_numpy()\n"
   ]
  },
  {
   "cell_type": "markdown",
   "metadata": {},
   "source": [
    "### oe1 oe2 acc1 acc2 m3"
   ]
  },
  {
   "cell_type": "code",
   "execution_count": null,
   "metadata": {},
   "outputs": [],
   "source": [
    "# Data for each experiment\n",
    "experiments = {\n",
    "    \"1s\": [bpm_avg_x, bpm_avg_y, bpm_mode_xy, \n",
    "           bpm_mode_x, bpm_mode_y, bpm_mode_xy,\n",
    "           bpm_median_x, bpm_median_y, bpm_median_xy],\n",
    "            }\n",
    "axes = [\"bpm_avg_x\", \"bpm_avg_y\", \"bpm_avg_xy\",\n",
    "        \"bpm_mode_x\", \"bpm_mode_y\", \"bpm_mode_xy\",\n",
    "        \"bpm_median_x\", \"bpm_median_y\", \"bpm_median_xy\"]\n",
    "\n",
    "# results = {\"direction\": [], \"axis\": [], \"acc1\": [], \"acc2\": [], \"acc3\": [],\n",
    "#            \"hits_idx\": [], \"hits_dbl_idx\": [], \"hits_hf_idx\": []}\n",
    "\n",
    "results = defaultdict(list)\n",
    "\n",
    "tolerance = 8\n",
    "for exp_name, data in experiments.items():\n",
    "    for axis_name, calculated in zip(axes, data):\n",
    "        metrics, hits_idx, hits_dbl_idx, hits_hf_idx = calculate_metrics_with_oe(ref, calculated, tolerance = tolerance)\n",
    "        \n",
    "        results[\"mode\"].append(mode)\n",
    "        results[\"axis\"].append(axis_name)\n",
    "        results[\"acc1\"].append(metrics[\"acc1\"])\n",
    "        results[\"acc2\"].append(metrics[\"acc2\"]) # double/ half\n",
    "        results[\"acc3\"].append(metrics[\"acc3\"]) # 1x 2x 3x 0.5x 0.33x\n",
    "        \n",
    "        results[\"hits_idx\"].append(hits_idx.tolist())\n",
    "        results[\"hits_dbl_idx\"].append(hits_dbl_idx.tolist())\n",
    "        results[\"hits_hf_idx\"].append(hits_hf_idx.tolist())\n",
    "\n",
    "results_df = pd.DataFrame(results)\n",
    "# results_df.to_csv(f'./{root_dir}/score/{base_dir}/{marker_name}_{mode}_score.csv')"
   ]
  },
  {
   "cell_type": "code",
   "execution_count": null,
   "metadata": {},
   "outputs": [],
   "source": [
    "results_df"
   ]
  },
  {
   "cell_type": "code",
   "execution_count": null,
   "metadata": {},
   "outputs": [],
   "source": [
    "# Plot using Seaborn\n",
    "plt.figure(figsize=(8, 5))  # Adjust figure size for better readability\n",
    "sns.barplot(data=results_df, x=\"experiment\", y=\"acc1\", palette=\"muted\", hue=\"axis\")\n",
    "\n",
    "#\n",
    "plt.xlabel(\"Onset type\")\n",
    "plt.ylabel(\"Acc1 (%)\")\n",
    "plt.title(f\"{base_dir} Per Axis 1S (position): Acc1 - Tempi range: 70-145\")\n",
    "plt.xticks(rotation=45)  # Rotate labels if necessary\n",
    "plt.ylim(0, 100)  # Set consistent y-axis limits\n",
    "plt.grid(axis=\"y\", linestyle=\"--\", alpha=0.7)\n",
    "\n",
    "plt.tight_layout()\n",
    "# plt.savefig(f'./{root}/{base_dir}/{base_dir}_acc1_70-145.png')\n",
    "plt.show()"
   ]
  },
  {
   "cell_type": "code",
   "execution_count": null,
   "metadata": {},
   "outputs": [],
   "source": [
    "# Plot metrics for each experiment\n",
    "for exp_name in results_df[\"experiment\"].unique():\n",
    "    exp_data = results_df[results_df[\"experiment\"] == exp_name]\n",
    "    \n",
    "    x = np.arange(len(exp_data))  # Axes: X, Y, Z, XYZ\n",
    "    bar_width = 0.15\n",
    "\n",
    "    plt.figure(figsize=(5, 5))\n",
    "    plt.bar(x - 2 * bar_width, exp_data[\"acc1\"], bar_width, label=\"Acc1 (Strict)\", color=\"blue\")\n",
    "    plt.bar(x - bar_width, exp_data[\"acc2\"], bar_width, label=\"Acc2 (Double/Half)\", color=\"green\")\n",
    "    # plt.bar(x, exp_data[\"Metric3\"], bar_width, label=\"Metric3 (Subdivisions)\", color=\"purple\")\n",
    "    # plt.bar(x + bar_width, exp_data[\"OE1\"], bar_width, label=\"OE1 (Strict Overestimation)\", color=\"orange\")\n",
    "    # plt.bar(x + 2 * bar_width, exp_data[\"OE2\"], bar_width, label=\"OE2 (Hierarchical Overestimation)\", color=\"red\")\n",
    "\n",
    "\n",
    "\n",
    "    plt.xticks(x, exp_data[\"axis\"])\n",
    "    plt.xlabel(\"Axes\")\n",
    "    plt.ylabel(\"Percentage (%)\")\n",
    "    plt.title(f\"Per Axis - Left Foot -{exp_name}\")\n",
    "    plt.legend()\n",
    "    plt.grid(axis=\"y\", linestyle=\"--\", alpha=0.7)\n",
    "    plt.ylim(0, 100)\n",
    "    # plt.savefig(f'./plots/left_foot_{exp_name}.png')\n",
    "    plt.show()"
   ]
  },
  {
   "cell_type": "code",
   "execution_count": null,
   "metadata": {},
   "outputs": [],
   "source": [
    "plt.figure(figsize=(8, 4))\n",
    "plt.hist(ref, bins=10)"
   ]
  },
  {
   "cell_type": "code",
   "execution_count": null,
   "metadata": {},
   "outputs": [],
   "source": []
  }
 ],
 "metadata": {
  "kernelspec": {
   "display_name": "base",
   "language": "python",
   "name": "python3"
  },
  "language_info": {
   "codemirror_mode": {
    "name": "ipython",
    "version": 3
   },
   "file_extension": ".py",
   "mimetype": "text/x-python",
   "name": "python",
   "nbconvert_exporter": "python",
   "pygments_lexer": "ipython3",
   "version": "3.12.9"
  }
 },
 "nbformat": 4,
 "nbformat_minor": 2
}
