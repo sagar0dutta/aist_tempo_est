{
 "cells": [
  {
   "cell_type": "code",
   "execution_count": 1,
   "id": "077da41f",
   "metadata": {},
   "outputs": [],
   "source": [
    "import os\n",
    "import json\n",
    "import numpy as np\n",
    "import pandas as pd\n",
    "from utils.eval import *\n",
    "from collections import defaultdict\n",
    "import seaborn as sns\n",
    "import matplotlib.pyplot as plt"
   ]
  },
  {
   "cell_type": "code",
   "execution_count": null,
   "id": "73b377e3",
   "metadata": {},
   "outputs": [],
   "source": [
    "a = 45; b= 140\n",
    "mode = \"uni\"\n",
    "tau = 0.13      # 0.13 --- 10% bpm , 0.05 is 3.5%\n",
    "\n",
    "\n",
    "jdata1 = evaluation_single(a, b, mode, \"anchor_zero\", tolerance= tau)    # overall acc1 per body segment\n",
    "jdata2 = evaluation_single(a, b, mode, \"anchor_peak\", tolerance= tau)    # overall acc1 per body segment\n",
    "jdata3 = evaluation_single(a, b, mode, \"anchor_energy\",tolerance= tau)    # overall acc1 per body segment"
   ]
  },
  {
   "cell_type": "code",
   "execution_count": null,
   "id": "a82d220a",
   "metadata": {},
   "outputs": [],
   "source": [
    "skipl = ['lefthand_xy', 'righthand_xy', 'leftfoot_xy', 'rightfoot_xy',\n",
    "         'bothhand_x_bothfoot_x', 'lefthand_xy_righthand_xy' , 'leftfoot_xy_rightfoot_xy', 'bothhand_x_bothhand_y', 'bothfoot_x_bothfoot_y', \n",
    "         ]\n",
    "\n",
    "flag1 = False\n",
    "flag2 = False\n",
    "flag3 = False\n",
    "\n",
    "print(5*\"*\", f'{mode}', 5*\"*\")\n",
    "print(\"zero-velocity\")\n",
    "for key in jdata1[\"bpm_median\"].keys():\n",
    "        \n",
    "        if key == \"both_hand_x\":\n",
    "                flag1 = True\n",
    "        \n",
    "        if flag1 and key not in skipl:\n",
    "                print(key,\"---\", jdata1[\"bpm_median\"][key]['accuracy'])\n",
    "\n",
    "        \n",
    "    \n",
    "print(\"\\npeak-velocity\")\n",
    "for key in jdata2[\"bpm_median\"].keys():\n",
    "        \n",
    "        if key == \"both_hand_x\":\n",
    "                flag2 = True\n",
    "        if flag2 and key not in skipl:\n",
    "                print(key,\"---\", jdata2[\"bpm_median\"][key]['accuracy'])\n",
    "    \n",
    "print(\"\\nenergy\")\n",
    "for key in jdata3[\"bpm_median\"].keys():\n",
    "        \n",
    "        if key == \"both_hand_x\":\n",
    "                flag3 = True\n",
    "        if flag3 and key not in skipl:\n",
    "                print(key,\"---\", jdata3[\"bpm_median\"][key]['accuracy'])    "
   ]
  },
  {
   "cell_type": "markdown",
   "id": "2efa006d",
   "metadata": {},
   "source": [
    "### Proposed method"
   ]
  },
  {
   "cell_type": "code",
   "execution_count": 2,
   "id": "76406adc",
   "metadata": {},
   "outputs": [],
   "source": [
    "a, b = 45, 140\n",
    "tau = 0.13\n",
    "\n",
    "accuracy_zero = evaluation_multi_segment(\"anchor_zero\", \"uni\",a,b, tolerance= tau)\n",
    "accuracy_peak= evaluation_multi_segment(\"anchor_peak\", \"uni\",a,b, tolerance= tau)\n",
    "accuracy_energy = evaluation_multi_segment(\"anchor_energy\", \"uni\",a,b, tolerance= tau)\n"
   ]
  },
  {
   "cell_type": "code",
   "execution_count": 3,
   "id": "4ff00b6b",
   "metadata": {},
   "outputs": [
    {
     "data": {
      "text/plain": [
       "dict_keys(['acc', 'dts', 'hit_idx', 'hit_ref_bpm', 'hit_seg_names', 'hit_anc_seq', 'hit_genres', 'filename'])"
      ]
     },
     "execution_count": 3,
     "metadata": {},
     "output_type": "execute_result"
    }
   ],
   "source": [
    "accuracy_zero['bothhand_y_bothfoot_y_torso_y_uni'].keys()\n",
    "\n",
    "# tr = load_pickle(\"/itf-fi-ml/home/sagardu/aist_tempo_est/tempo_estimation_output/tempo_45_140/multi/anchor_zero/bothhand_y_bothfoot_y_torso_y_uni.pkl\")"
   ]
  },
  {
   "cell_type": "code",
   "execution_count": null,
   "id": "ec4a5fe5",
   "metadata": {},
   "outputs": [],
   "source": [
    "print(\"uni\")\n",
    "print(\"anchor_zero\")\n",
    "\n",
    "for key in accuracy_zero.keys():\n",
    "    print(key,\"---\", round(accuracy_zero[key]['acc'],2))\n",
    "    \n",
    "# print(\"\\nanchor_peak\")\n",
    "# for key in accuracy_peak.keys():\n",
    "#     print(key,\"---\", round(accuracy_peak[key]['acc'],2))    \n",
    "\n",
    "# print(\"\\naccuracy_energy\")\n",
    "# for key in accuracy_energy.keys():\n",
    "#     print(key,\"---\", round(accuracy_energy[key]['acc'],2))    "
   ]
  },
  {
   "cell_type": "markdown",
   "id": "2318a220",
   "metadata": {},
   "source": [
    "## Evaluation: best of N strategy"
   ]
  },
  {
   "cell_type": "code",
   "execution_count": null,
   "id": "6af8d78a",
   "metadata": {},
   "outputs": [],
   "source": [
    "segment_names = [[\"both_hand_y\", \"both_foot_y\"],\n",
    "                [\"both_hand_y\", \"both_foot_y\", \"torso_y\"]]\n",
    "\n",
    "a, b = 45, 140\n",
    "mode = \"uni\"\n",
    "\n",
    "json_data = eval_best_of_n(segment_names, a, b, mode, \"anchor_zero\")\n",
    "\n",
    "chosen = json_data['both_hand_y_both_foot_y_torso_y']['hit_selected_bpm']\n",
    "hit_genres_id = json_data['both_hand_y_both_foot_y_torso_y']['hit_genres']\n",
    "\n",
    "# hit_idx = json_data['both_hand_y_both_foot_y_torso_y']['hit_idx']\n",
    "# hit_ref_bpm = json_data['both_hand_y_both_foot_y_torso_y']['hit_ref_bpm']\n",
    "# df_idx = load_pickle(\"./tempo_estimation_output/tempo_45_140/multi/anchor_zero/bothhand_y_bothfoot_y_torso_y_uni.pkl\")\n",
    "# gtempo = df_idx[\"gtempo\"].to_numpy() # --- can use hit_idx\n",
    "# hit_bpm = gtempo[hit_idx]\n"
   ]
  },
  {
   "cell_type": "markdown",
   "id": "18d4b73c",
   "metadata": {},
   "source": [
    "## Octave Search"
   ]
  },
  {
   "cell_type": "code",
   "execution_count": null,
   "id": "03c0a7ea",
   "metadata": {},
   "outputs": [],
   "source": [
    "hit_idx = accuracy_zero['bothhand_y_bothfoot_y_torso_y']['hit_idx']\n",
    "hit_ref_bpm = accuracy_zero['bothhand_y_bothfoot_y_torso_y']['hit_ref_bpm']\n",
    "hit_segment_names = accuracy_zero['bothhand_y_bothfoot_y_torso_y']['hit_seg_names']\n",
    "\n",
    "df_idx = load_pickle(\"./tempo_estimation_output/tempo_45_140/multi/anchor_zero/bothhand_y_bothfoot_y_torso_y_uni.pkl\")\n",
    "gtempo = df_idx[\"gtempo\"].to_numpy() # --- can use hit_idx\n",
    "hit_bpm = gtempo[hit_idx]"
   ]
  },
  {
   "cell_type": "code",
   "execution_count": null,
   "id": "d3ed7ed9",
   "metadata": {},
   "outputs": [],
   "source": [
    "from collections import Counter\n",
    "\n",
    "tolerance = 0.1  # ±3.5%\n",
    "half_mask = np.abs(hit_bpm - 0.5 * hit_ref_bpm) <= (tolerance * hit_ref_bpm)\n",
    "double_mask = np.abs(hit_bpm - 2.0 * hit_ref_bpm) <= (tolerance * hit_ref_bpm)\n",
    "ref_mask = np.abs(hit_bpm - hit_ref_bpm) <= (tolerance * hit_ref_bpm)\n",
    "\n",
    "# Counts\n",
    "half_count = np.sum(half_mask)\n",
    "double_count = np.sum(double_mask)\n",
    "ref_count = np.sum(ref_mask)\n",
    "total = len(hit_bpm)\n",
    "\n",
    "print(\"total hits:\", total)\n",
    "print(f\"Half-time matches:  {half_count} ({half_count/total:.2%})\")\n",
    "print(f\"Double-time matches:{double_count} ({double_count/total:.2%})\")\n",
    "print(f\"Reference matches:  {ref_count} ({ref_count/total:.2%})\")\n",
    "\n",
    "# --- Dominant segment for half-time ---\n",
    "if half_count > 0:\n",
    "    half_segments = hit_segment_names[half_mask]\n",
    "    dominant_segment, count = Counter(half_segments).most_common(1)[0]\n",
    "    print(f\"Dominant segment for half-time matches: {dominant_segment} ({count} occurrences)\")\n",
    "else:\n",
    "    print(\"No half-time matches found.\")\n"
   ]
  },
  {
   "cell_type": "markdown",
   "id": "a20e7422",
   "metadata": {},
   "source": [
    "## Body Part Contribution per Dance Genre"
   ]
  },
  {
   "cell_type": "code",
   "execution_count": null,
   "id": "c4416694",
   "metadata": {},
   "outputs": [],
   "source": [
    "hit_genres_multi = accuracy_zero['bothhand_y_bothfoot_y_torso_y']['hit_genres']\n",
    "hit_segment_names = accuracy_zero['bothhand_y_bothfoot_y_torso_y']['hit_seg_names']\n",
    "\n",
    "\n",
    "# part_counts = find_body_contribution_best_of_n(chosen, hit_genres_id)\n",
    "part_counts = find_body_contribution_multi(hit_genres_multi, hit_segment_names)\n"
   ]
  },
  {
   "cell_type": "code",
   "execution_count": null,
   "id": "84bb03b4",
   "metadata": {},
   "outputs": [],
   "source": [
    "genre_order = ['House', 'Middle Hip-hop', 'Break','LA style Hip-hop',\n",
    "\t\t\t\t'Krump', 'Pop','Lock', 'Waack', 'Ballet Jazz', 'Street Jazz']\n",
    "\n",
    "part_counts[\"genre\"] = pd.Categorical(\n",
    "    part_counts[\"genre\"],\n",
    "    categories=genre_order,\n",
    "    ordered=True\n",
    "    )\n",
    "\n",
    "plt.figure(figsize=(10, 6), dpi=80)\n",
    "sns.barplot(\n",
    "    data=part_counts,\n",
    "    x=\"percentage\",\n",
    "    y=\"genre\",\n",
    "    hue=\"body_part\",\n",
    "    dodge=True,\n",
    "    order=genre_order,\n",
    ")\n",
    "\n",
    "label_map = {\n",
    "    \"both_hand_y\": \"Hands (y)\",\n",
    "    \"both_foot_y\": \"Feet (y)\",\n",
    "    \"torso_y\": \"Torso (y)\"\n",
    "}\n",
    "handles, labels = plt.gca().get_legend_handles_labels()\n",
    "new_labels = [label_map.get(lbl, lbl) for lbl in labels]\n",
    "\n",
    "# plt.title(\"Body Part Contribution per Dance Genre\")\n",
    "plt.xlabel(\"Percentage (%)\")\n",
    "plt.ylabel(\"Dance Genre\")\n",
    "plt.legend(handles, new_labels,title=\"Body Part\",  loc=\"lower right\")\n",
    "plt.tight_layout()\n",
    "plt.show()\n",
    "\n"
   ]
  }
 ],
 "metadata": {
  "kernelspec": {
   "display_name": "base",
   "language": "python",
   "name": "python3"
  },
  "language_info": {
   "codemirror_mode": {
    "name": "ipython",
    "version": 3
   },
   "file_extension": ".py",
   "mimetype": "text/x-python",
   "name": "python",
   "nbconvert_exporter": "python",
   "pygments_lexer": "ipython3",
   "version": "3.12.9"
  }
 },
 "nbformat": 4,
 "nbformat_minor": 5
}
