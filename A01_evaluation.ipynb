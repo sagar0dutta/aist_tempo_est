{
 "cells": [
  {
   "cell_type": "code",
   "execution_count": 17,
   "id": "077da41f",
   "metadata": {},
   "outputs": [],
   "source": [
    "import os\n",
    "import json\n",
    "import numpy as np\n",
    "import pandas as pd\n",
    "from utils.eval import *\n",
    "from collections import defaultdict\n",
    "import seaborn as sns\n",
    "import matplotlib.pyplot as plt"
   ]
  },
  {
   "cell_type": "code",
   "execution_count": 9,
   "id": "73b377e3",
   "metadata": {},
   "outputs": [],
   "source": [
    "a = 45; b= 140\n",
    "mode = \"uni\"\n",
    "w_sec = 5; h_sec = w_sec/2\n",
    "\n",
    "\n",
    "jdata1 = evaluation_single(a, b, mode, \"anchor_zero\", tolerance=0.13)    # overall acc1 per body segment\n",
    "jdata2 = evaluation_single(a, b, mode, \"anchor_peak\", tolerance=0.13)    # overall acc1 per body segment\n",
    "jdata3 = evaluation_single(a, b, mode, \"anchor_energy\",tolerance=0.13)    # overall acc1 per body segment"
   ]
  },
  {
   "cell_type": "code",
   "execution_count": null,
   "id": "a82d220a",
   "metadata": {},
   "outputs": [],
   "source": [
    "\n",
    "print(\"zero-vel\")\n",
    "for key in jdata1[\"bpm_median\"].keys():\n",
    "    print(key,\"---\", jdata1[\"bpm_median\"][key]['accuracy'])\n",
    "    \n",
    "print(\"\\npeak-vel\")\n",
    "for key in jdata2[\"bpm_median\"].keys():\n",
    "    print(key,\"---\", jdata2[\"bpm_median\"][key]['accuracy'])\n",
    "    \n",
    "print(\"\\nenergy\")\n",
    "for key in jdata3[\"bpm_median\"].keys():\n",
    "    print(key,\"---\", jdata3[\"bpm_median\"][key]['accuracy'])    "
   ]
  },
  {
   "cell_type": "markdown",
   "id": "2efa006d",
   "metadata": {},
   "source": [
    "### Proposed method"
   ]
  },
  {
   "cell_type": "code",
   "execution_count": 11,
   "id": "76406adc",
   "metadata": {},
   "outputs": [],
   "source": [
    "a, b = 45, 140\n",
    "\n",
    "accuracy_zero = evaluation_multi_segment(\"anchor_zero\", \"uni\",a,b, tolerance=0.13)\n",
    "accuracy_peak= evaluation_multi_segment(\"anchor_peak\", \"uni\",a,b, tolerance=0.13)\n",
    "accuracy_energy = evaluation_multi_segment(\"anchor_energy\", \"uni\",a,b, tolerance=0.13)\n"
   ]
  },
  {
   "cell_type": "code",
   "execution_count": 28,
   "id": "ec4a5fe5",
   "metadata": {},
   "outputs": [
    {
     "name": "stdout",
     "output_type": "stream",
     "text": [
      "uni\n",
      "anchor_zero\n",
      "bothhand_y_bothfoot_y --- 67.56\n",
      "leftfoot_xy_rightfoot_xy --- 48.47\n",
      "left_foot_res_right_foot_res --- 38.18\n",
      "lefthand_xy_righthand_xy --- 55.48\n",
      "left_hand_res_right_hand_res --- 39.82\n",
      "bothfoot_x_bothfoot_y --- 49.07\n",
      "bothhand_x_bothfoot_x --- 33.04\n",
      "bothhand_x_bothhand_y --- 60.78\n",
      "both_hand_res_both_foot_res --- 44.74\n",
      "bothhand_y_bothfoot_y_torso_y --- 72.93\n",
      "\n",
      "anchor_peak\n",
      "bothhand_y_bothfoot_y --- 60.55\n",
      "leftfoot_xy_rightfoot_xy --- 43.18\n",
      "left_foot_res_right_foot_res --- 14.62\n",
      "lefthand_xy_righthand_xy --- 49.66\n",
      "left_hand_res_right_hand_res --- 14.62\n",
      "bothfoot_x_bothfoot_y --- 44.37\n",
      "bothhand_x_bothfoot_x --- 32.29\n",
      "bothhand_x_bothhand_y --- 55.78\n",
      "both_hand_res_both_foot_res --- 14.62\n",
      "bothhand_y_bothfoot_y_torso_y --- 68.31\n",
      "\n",
      "accuracy_energy\n",
      "bothhand_y_bothfoot_y --- 66.96\n",
      "leftfoot_xy_rightfoot_xy --- 47.43\n",
      "left_foot_res_right_foot_res --- 14.62\n",
      "lefthand_xy_righthand_xy --- 55.85\n",
      "left_hand_res_right_hand_res --- 14.62\n",
      "bothfoot_x_bothfoot_y --- 50.34\n",
      "bothhand_x_bothfoot_x --- 32.59\n",
      "bothhand_x_bothhand_y --- 58.54\n",
      "both_hand_res_both_foot_res --- 14.62\n",
      "bothhand_y_bothfoot_y_torso_y --- 72.93\n"
     ]
    }
   ],
   "source": [
    "print(\"uni\")\n",
    "print(\"anchor_zero\")\n",
    "\n",
    "for key in accuracy_zero.keys():\n",
    "    print(key,\"---\", round(accuracy_zero[key]['acc'],2))\n",
    "    \n",
    "print(\"\\nanchor_peak\")\n",
    "for key in accuracy_peak.keys():\n",
    "    print(key,\"---\", round(accuracy_peak[key]['acc'],2))    \n",
    "\n",
    "print(\"\\naccuracy_energy\")\n",
    "for key in accuracy_energy.keys():\n",
    "    print(key,\"---\", round(accuracy_energy[key]['acc'],2))    "
   ]
  },
  {
   "cell_type": "markdown",
   "id": "2318a220",
   "metadata": {},
   "source": [
    "## Evaluation: best of N strategy"
   ]
  },
  {
   "cell_type": "code",
   "execution_count": null,
   "id": "6af8d78a",
   "metadata": {},
   "outputs": [],
   "source": [
    "segment_names = [[\"both_hand_y\", \"both_foot_y\"],\n",
    "                [\"both_hand_x\", \"both_foot_x\"],\n",
    "                [\"lefthand_xy\", \"righthand_xy\"],\n",
    "                [\"leftfoot_xy\", \"rightfoot_xy\"],\n",
    "                [\"leftfoot_xy\", \"rightfoot_xy\"],\n",
    "                [\"both_hand_x\", \"both_hand_y\"],\n",
    "                [\"both_foot_x\", \"both_foot_y\"],\n",
    "                [\"both_hand_y\", \"both_foot_y\", \"torso_y\"]]\n"
   ]
  },
  {
   "cell_type": "code",
   "execution_count": 29,
   "id": "5c93f0fb",
   "metadata": {},
   "outputs": [
    {
     "name": "stdout",
     "output_type": "stream",
     "text": [
      "best of N\n",
      "['both_hand_y', 'both_foot_y'] --- 76.44\n",
      "['both_hand_x', 'both_foot_x'] --- 52.13\n",
      "['lefthand_xy', 'righthand_xy'] --- 68.75\n",
      "['leftfoot_xy', 'rightfoot_xy'] --- 61.6\n",
      "['leftfoot_xy', 'rightfoot_xy'] --- 61.6\n",
      "['both_hand_x', 'both_hand_y'] --- 74.72\n",
      "['both_foot_x', 'both_foot_y'] --- 67.11\n",
      "['both_hand_y', 'both_foot_y', 'torso_y'] --- 85.53\n"
     ]
    }
   ],
   "source": [
    "a, b = 45, 140\n",
    "mode = \"uni\"\n",
    "\n",
    "# segment_names = [\"both_hand_y\", \"both_foot_y\", \"torso_y\"]\n",
    "print(\"best of N\")\n",
    "for comb in segment_names:\n",
    "\n",
    "    json_data = eval_best_of_n(comb, a, b, mode, \"anchor_zero\")\n",
    "    print(comb, \"---\", round(json_data[\"accuracy\"], 2))\n",
    "    \n",
    "    \n",
    "    \n",
    "    "
   ]
  },
  {
   "cell_type": "markdown",
   "id": "a20e7422",
   "metadata": {},
   "source": [
    "## Body Part Contribution per Dance Genre"
   ]
  },
  {
   "cell_type": "code",
   "execution_count": null,
   "id": "93f1d093",
   "metadata": {},
   "outputs": [],
   "source": [
    "with open(\"genre_symbols_mapping.json\", \"r\") as file:\n",
    "    genre_name = json.load(file)\n",
    "\n",
    "\n",
    "output_path = f\"./tempo_estimation_output/tempo_{a}_{b}/\"\n",
    "fpath4 = os.path.join(output_path, f\"anchor_zero/left_hand_y_{mode}.pkl\")\n",
    "main_df = pd.read_pickle(fpath4)\n",
    "\n",
    "\n",
    "# Assuming chosen and main_df have the same length\n",
    "genre_part_map = defaultdict(list)\n",
    "\n",
    "for i, (bpm, part) in enumerate(chosen):\n",
    "    genre = main_df.loc[i, \"dance_genre\"]\n",
    "    genre_part_map[genre_name[genre]].append(part)\n",
    "\n",
    "\n",
    "# Convert to a DataFrame for easier counting\n",
    "genre_part_df = pd.DataFrame([\n",
    "    {\"genre\": genre, \"body_part\": part}\n",
    "    for genre, parts in genre_part_map.items()\n",
    "    for part in parts\n",
    "])\n",
    "\n",
    "# Count frequency of each body part per genre\n",
    "part_counts = (\n",
    "    genre_part_df.groupby([\"genre\", \"body_part\"])\n",
    "    .size()\n",
    "    .reset_index(name=\"count\")\n",
    "    .sort_values([\"genre\", \"count\"], ascending=[True, False])\n",
    "    )"
   ]
  },
  {
   "cell_type": "code",
   "execution_count": null,
   "id": "84bb03b4",
   "metadata": {},
   "outputs": [],
   "source": [
    "\n",
    "\n",
    "plt.figure(figsize=(10, 6))\n",
    "sns.barplot(\n",
    "    data=part_counts,\n",
    "    x=\"count\",\n",
    "    y=\"genre\",\n",
    "    hue=\"body_part\",\n",
    "    dodge=True\n",
    ")\n",
    "\n",
    "plt.title(\"Body Part Contribution per Dance Genre\")\n",
    "plt.xlabel(\"Count\")\n",
    "plt.ylabel(\"Dance Genre\")\n",
    "plt.legend(title=\"Body Part\", bbox_to_anchor=(1.05, 1), loc=\"upper left\")\n",
    "plt.tight_layout()\n",
    "plt.show()\n"
   ]
  }
 ],
 "metadata": {
  "kernelspec": {
   "display_name": "base",
   "language": "python",
   "name": "python3"
  },
  "language_info": {
   "codemirror_mode": {
    "name": "ipython",
    "version": 3
   },
   "file_extension": ".py",
   "mimetype": "text/x-python",
   "name": "python",
   "nbconvert_exporter": "python",
   "pygments_lexer": "ipython3",
   "version": "3.12.9"
  }
 },
 "nbformat": 4,
 "nbformat_minor": 5
}
