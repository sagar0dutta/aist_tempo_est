{
 "cells": [
  {
   "cell_type": "code",
   "execution_count": null,
   "id": "759ba992",
   "metadata": {},
   "outputs": [],
   "source": [
    "import os\n",
    "import pickle\n",
    "\n",
    "from utils.extract_dance_onsets import extract_body_anchor\n",
    "from utils.rms_extract_dance_onsets import extract_anchor_energy\n",
    "from utils.extract_com_anchors import extract_CoM_anchor, compute_center_of_mass, extract_CoM_energy_anchor\n",
    "from utils.anchor_io import *\n",
    "\n",
    "\n",
    "marker_dict = {    \n",
    "0: \"nose\", 1: \"left_eye\", 2: \"right_eye\", 3: \"left_ear\",4: \"right_ear\",5: \"left_shoulder\",\n",
    "6: \"right_shoulder\",7: \"left_elbow\",8: \"right_elbow\",9: \"left_wrist\",10: \"right_wrist\",\n",
    "11: \"left_hip\",12: \"right_hip\",13: \"left_knee\",14: \"right_knee\",15: \"left_ankle\",16: \"right_ankle\",}  \n",
    "        \n",
    "\n",
    "\n",
    "fps = 60   \n",
    "anchor_dir = \"./extracted_anchors\"\n",
    "aist2d_dir = \"./aist_dataset/aist_annotation/keypoints2d\"\n",
    "\n",
    "anchor_com_dir = os.path.join(anchor_dir, \"com\")\n",
    "create_com_dir(anchor_com_dir)"
   ]
  },
  {
   "cell_type": "markdown",
   "id": "3457ce5c",
   "metadata": {},
   "source": [
    "## Zero-velocity | Peak-velocity"
   ]
  },
  {
   "cell_type": "code",
   "execution_count": null,
   "id": "c8a4a8c3",
   "metadata": {},
   "outputs": [],
   "source": [
    "\n",
    "config1 = {\"mode\": [\"uni\", \"bi\"], \"marker_id\": [9, 10],  \"metric\": [\"anchor_zero\", \"anchor_peak\"]}\n",
    "config2 = {\"mode\": [\"uni\", \"bi\"], \"marker_id\": [15, 16],  \"metric\": [\"anchor_zero\", \"anchor_peak\"]}\n",
    "configs = [config1, config2] # , config2\n",
    "\n",
    "for cfg in configs:\n",
    "    for marker_id in cfg[\"marker_id\"]:\n",
    "        print(f\"Processing marker ID: {marker_id}\")\n",
    "        marker_path = marker_dict[marker_id]\n",
    "        dir_path = os.path.join(anchor_dir, marker_path)\n",
    "        create_anchor_dir(dir_path)\n",
    "            \n",
    "        for mode in cfg[\"mode\"]:\n",
    "            for metric in cfg[\"metric\"]:\n",
    "                    \n",
    "                savepath1 = os.path.join(dir_path, metric)     \n",
    "                extract_body_anchor(mode, marker_id, \n",
    "                                    savepath1, aist2d_dir,\n",
    "                                    fps = fps, h_thres = 0.1,\n",
    "                                    vel_mode= \"on\" if metric == \"anchor_peak\" else \"off\")"
   ]
  },
  {
   "cell_type": "markdown",
   "id": "62e3269b",
   "metadata": {},
   "source": [
    "## Kinetic Energy"
   ]
  },
  {
   "cell_type": "code",
   "execution_count": null,
   "id": "53bc40eb",
   "metadata": {},
   "outputs": [],
   "source": [
    "\n",
    "config1 = {\"mode\": [\"uni\", \"bi\"], \"marker_id\": [9, 10], \"metric\": [\"anchor_energy\"]}\n",
    "config2 = {\"mode\": [\"uni\", \"bi\"], \"marker_id\": [15, 16], \"metric\": [\"anchor_energy\"]}\n",
    "\n",
    "configs = [config1, config2]\n",
    "\n",
    "for cfg in configs:\n",
    "    for marker_id in cfg[\"marker_id\"]:\n",
    "        print(f\"Processing marker ID: {marker_id}\")\n",
    "        marker_path = marker_dict[marker_id]\n",
    "        dir_path = os.path.join(anchor_dir, marker_path)\n",
    "        create_anchor_dir(dir_path)\n",
    "\n",
    "        for mode in cfg[\"mode\"]:\n",
    "            for metric in cfg[\"metric\"]:\n",
    "                \n",
    "                savepath2 = os.path.join(dir_path, metric)         \n",
    "                extract_anchor_energy(mode, marker_id, savepath2, aist2d_dir, fps= fps, h_thres = 0.1)"
   ]
  },
  {
   "cell_type": "markdown",
   "id": "14c288ce",
   "metadata": {},
   "source": [
    "## Compute Center of Mass and anchors"
   ]
  },
  {
   "cell_type": "code",
   "execution_count": null,
   "id": "9499f3b8",
   "metadata": {},
   "outputs": [],
   "source": [
    "compute_center_of_mass(aist2d_dir, com_save_dirs)"
   ]
  },
  {
   "cell_type": "code",
   "execution_count": 3,
   "id": "a7f2bfb2",
   "metadata": {},
   "outputs": [
    {
     "name": "stderr",
     "output_type": "stream",
     "text": [
      "  0%|          | 0/1510 [00:00<?, ?it/s]"
     ]
    },
    {
     "name": "stderr",
     "output_type": "stream",
     "text": [
      "100%|██████████| 1510/1510 [01:26<00:00, 17.49it/s]\n",
      "100%|██████████| 1510/1510 [01:21<00:00, 18.45it/s]\n",
      "100%|██████████| 1510/1510 [01:14<00:00, 20.24it/s]\n"
     ]
    }
   ],
   "source": [
    "mode = \"bi\"\n",
    "\n",
    "sv_anchr_zero_path = os.path.join(anchor_com_dir, \"anchor_zero\")\n",
    "sv_anchr_peak_path = os.path.join(anchor_com_dir, \"anchor_peak\")\n",
    "sv_anchr_energy_path = os.path.join(anchor_com_dir, \"anchor_energy\")\n",
    "\n",
    "extract_CoM_anchor(com_save_dirs, mode, sv_anchr_zero_path, fps= fps, h_thres = 0.2, vel_mode=\"off\")\n",
    "\n",
    "extract_CoM_anchor(com_save_dirs, mode, sv_anchr_peak_path, fps= fps, h_thres = 0.2, vel_mode=\"on\")\n",
    "\n",
    "extract_CoM_energy_anchor(com_save_dirs, mode, sv_anchr_energy_path, fps= fps, h_thres = 0.2)\n"
   ]
  }
 ],
 "metadata": {
  "kernelspec": {
   "display_name": "base",
   "language": "python",
   "name": "python3"
  },
  "language_info": {
   "codemirror_mode": {
    "name": "ipython",
    "version": 3
   },
   "file_extension": ".py",
   "mimetype": "text/x-python",
   "name": "python",
   "nbconvert_exporter": "python",
   "pygments_lexer": "ipython3",
   "version": "3.12.2"
  }
 },
 "nbformat": 4,
 "nbformat_minor": 5
}
