{
 "cells": [
  {
   "cell_type": "code",
   "execution_count": 18,
   "id": "491f0035",
   "metadata": {},
   "outputs": [],
   "source": [
    "import os\n",
    "import shutil\n",
    "import pickle\n",
    "import numpy as np\n",
    "from pydub import AudioSegment\n",
    "from pydub.generators import Triangle\n",
    "\n",
    "\n",
    "def load_pickle(filepath):\n",
    "    with open(filepath, \"rb\") as f:\n",
    "        json_data = pickle.load(f)\n",
    "    return json_data"
   ]
  },
  {
   "cell_type": "code",
   "execution_count": 10,
   "id": "8965c149",
   "metadata": {},
   "outputs": [],
   "source": [
    "a,b = 45,140\n",
    "\n",
    "root_dir = \"./tempo_estimation_output\"\n",
    "anchor_dir = os.path.join(root_dir, f\"tempo_{a}_{b}\", \"eval_data\", \"multi\")\n",
    "file_path = os.path.join(anchor_dir, \"anchor_zero_uni.pkl\")\n",
    "\n",
    "data = load_pickle(file_path)\n",
    "ky = 'bothhand_y_bothfoot_y_torso_y_uni'\n",
    "\n",
    "hit_idx = data[ky][\"hit_idx\"]\n",
    "hit_ref_bpm = data[ky][\"hit_ref_bpm\"]\n",
    "hit_seg_names = data[ky][\"hit_seg_names\"]\n",
    "hit_anc_seq = data[ky][\"hit_anc_seq\"]      \n",
    "hit_genres = data[ky][\"hit_genres\"]\n",
    "filename = data[ky][\"filename\"]\n",
    "\n"
   ]
  },
  {
   "cell_type": "code",
   "execution_count": 23,
   "id": "a1c29696",
   "metadata": {},
   "outputs": [
    {
     "name": "stdout",
     "output_type": "stream",
     "text": [
      "Video duration: 8.74 seconds\n"
     ]
    }
   ],
   "source": [
    "video_dir = \"./aist_dataset/video\"\n",
    "\n",
    "v_idx = 0  \n",
    "fname = filename[v_idx].replace(\"cAll\", \"c01\")\n",
    "anc_seq = hit_anc_seq[v_idx].flatten()\n",
    "\n",
    "video_path = os.path.join(video_dir, fname + \".mp4\")\n",
    "os.path.exists(video_path)\n",
    "\n",
    "# load video with audio\n",
    "from moviepy.editor import VideoFileClip\n",
    "video = VideoFileClip(video_path)\n",
    "duration = video.duration  # in seconds\n",
    "print(f\"Video duration: {duration} seconds\")"
   ]
  },
  {
   "cell_type": "code",
   "execution_count": null,
   "id": "0b25fb27",
   "metadata": {},
   "outputs": [
    {
     "data": {
      "text/plain": [
       "<_io.BufferedRandom name='./aist_dataset/gKR_sBM_c01_d28_mKR3_ch03_clicktrack.wav'>"
      ]
     },
     "execution_count": 25,
     "metadata": {},
     "output_type": "execute_result"
    }
   ],
   "source": [
    "\n",
    "time = np.arange(len(anc_seq)) / 60\n",
    "\n",
    "\n",
    "# beat_peaks_sec = time[anc_seq == 1]        # anc_seq is binary sequence with 1 at beat positions\n",
    "\n",
    "click_duration = 50  # milliseconds\n",
    "click_freq = 1200  # Hz\n",
    "\n",
    "# Generate a single click sound\n",
    "click = Triangle(click_freq).to_audio_segment(duration=click_duration)\n",
    "\n",
    "onset_times = time[anc_seq == 1]  \n",
    "\n",
    "total_duration = (len(anc_seq)/60)*1000  #  in milliseconds\n",
    "\n",
    "audio = AudioSegment.silent(duration=total_duration)\n",
    "for onset in onset_times:\n",
    "    position = int(onset * 1000)  # Convert onset time to milliseconds\n",
    "    audio = audio.overlay(click, position=position)\n",
    "\n",
    "# Export the audio with clicks to a file\n",
    "audio.export(os.path.join(\"./aist_dataset\", f\"{fname}_clicktrack.wav\"), format=\"wav\")\n",
    "shutil.copy(video_path, os.path.join(\"./aist_dataset\", f\"{fname}.mp4\"))\n"
   ]
  },
  {
   "cell_type": "code",
   "execution_count": null,
   "id": "e7bba2c7",
   "metadata": {},
   "outputs": [
    {
     "data": {
      "text/plain": [
       "'./aist_dataset/gKR_sBM_c01_d28_mKR3_ch03.mp4'"
      ]
     },
     "execution_count": 27,
     "metadata": {},
     "output_type": "execute_result"
    }
   ],
   "source": []
  }
 ],
 "metadata": {
  "kernelspec": {
   "display_name": "base",
   "language": "python",
   "name": "python3"
  },
  "language_info": {
   "codemirror_mode": {
    "name": "ipython",
    "version": 3
   },
   "file_extension": ".py",
   "mimetype": "text/x-python",
   "name": "python",
   "nbconvert_exporter": "python",
   "pygments_lexer": "ipython3",
   "version": "3.12.9"
  }
 },
 "nbformat": 4,
 "nbformat_minor": 5
}
