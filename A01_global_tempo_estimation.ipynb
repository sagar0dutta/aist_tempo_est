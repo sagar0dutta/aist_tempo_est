{
 "cells": [
  {
   "cell_type": "code",
   "execution_count": 1,
   "id": "dc7bef5f",
   "metadata": {},
   "outputs": [],
   "source": [
    "import os\n",
    "import json\n",
    "import pickle\n",
    "import numpy as np\n",
    "import pandas as pd\n",
    "from tqdm import tqdm\n",
    "from scipy import stats\n",
    "import matplotlib.pyplot as plt\n",
    "\n",
    "# from utils import compute_tempo as ctempo\n",
    "from utils.anchor_io import *\n",
    "from utils.dance_tempo_pipeline import *"
   ]
  },
  {
   "cell_type": "code",
   "execution_count": 2,
   "id": "19b0b0a1",
   "metadata": {},
   "outputs": [],
   "source": [
    "fps = 60\n",
    "w_sec = 5\n",
    "h_sec = w_sec/2\n",
    "window_size = int(fps*w_sec)\n",
    "hop_size = int(fps*h_sec)\n",
    "\n",
    "a = 45 \n",
    "b = 140\n",
    "tempi_range = np.arange(a,b,1)\n",
    "# anchor_type = \"anchor_peak\"\n",
    "\n",
    "\n",
    "output_dir = \"tempo_estimation_output\"\n",
    "create_output_dir(output_dir, f\"tempo_{a}_{b}\")\n",
    "save_dir = os.path.join(output_dir, f\"tempo_{a}_{b}/\")\n",
    "\n",
    "\n",
    "aist2d_path = \"./aist_dataset/aist_annotation/keypoints2d\"\n",
    "aist_filelist = os.listdir(aist2d_path)"
   ]
  },
  {
   "cell_type": "code",
   "execution_count": null,
   "id": "99cf1f94",
   "metadata": {},
   "outputs": [],
   "source": [
    "anchor_type1 = \"anchor_zero\"\n",
    "anchor_type2 = \"anchor_peak\"\n",
    "anchor_type3 = \"anchor_energy\"\n",
    "mode = \"bi\"\n",
    "\n",
    "process_all_files(aist_filelist, anchor_type1, mode, fps, window_size, hop_size, tempi_range, save_dir)\n",
    "process_all_files(aist_filelist, anchor_type2, mode, fps, window_size, hop_size, tempi_range, save_dir)\n",
    "process_all_files(aist_filelist, anchor_type3, mode, fps, window_size, hop_size, tempi_range, save_dir)"
   ]
  },
  {
   "cell_type": "code",
   "execution_count": 3,
   "id": "4b458a42",
   "metadata": {},
   "outputs": [
    {
     "name": "stderr",
     "output_type": "stream",
     "text": [
      "100%|██████████| 1510/1510 [04:26<00:00,  5.66it/s]\n"
     ]
    },
    {
     "name": "stdout",
     "output_type": "stream",
     "text": [
      "Total processed: 1341\n"
     ]
    },
    {
     "name": "stderr",
     "output_type": "stream",
     "text": [
      "100%|██████████| 1510/1510 [03:52<00:00,  6.51it/s]\n"
     ]
    },
    {
     "name": "stdout",
     "output_type": "stream",
     "text": [
      "Total processed: 1341\n"
     ]
    },
    {
     "name": "stderr",
     "output_type": "stream",
     "text": [
      "100%|██████████| 1510/1510 [03:46<00:00,  6.66it/s]\n"
     ]
    },
    {
     "name": "stdout",
     "output_type": "stream",
     "text": [
      "Total processed: 1341\n"
     ]
    }
   ],
   "source": [
    "anchor_type1 = \"anchor_zero\"\n",
    "anchor_type2 = \"anchor_peak\"\n",
    "anchor_type3 = \"anchor_energy\"\n",
    "mode = \"uni\"\n",
    "\n",
    "\n",
    "process_all_files_multi_segment(aist_filelist, anchor_type1, mode, fps, window_size, hop_size, tempi_range, save_dir)\n",
    "process_all_files_multi_segment(aist_filelist, anchor_type2, mode, fps, window_size, hop_size, tempi_range, save_dir)\n",
    "process_all_files_multi_segment(aist_filelist, anchor_type3, mode, fps, window_size, hop_size, tempi_range, save_dir)\n",
    "\n"
   ]
  },
  {
   "cell_type": "code",
   "execution_count": null,
   "id": "eda1ff9e",
   "metadata": {},
   "outputs": [],
   "source": [
    "\n"
   ]
  }
 ],
 "metadata": {
  "kernelspec": {
   "display_name": "base",
   "language": "python",
   "name": "python3"
  },
  "language_info": {
   "codemirror_mode": {
    "name": "ipython",
    "version": 3
   },
   "file_extension": ".py",
   "mimetype": "text/x-python",
   "name": "python",
   "nbconvert_exporter": "python",
   "pygments_lexer": "ipython3",
   "version": "3.12.2"
  }
 },
 "nbformat": 4,
 "nbformat_minor": 5
}
