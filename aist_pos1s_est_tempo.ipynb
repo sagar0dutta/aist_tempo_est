{
 "cells": [
  {
   "cell_type": "code",
   "execution_count": 1,
   "metadata": {},
   "outputs": [],
   "source": [
    "import os\n",
    "import json\n",
    "import pickle\n",
    "import numpy as np\n",
    "import pandas as pd\n",
    "from tqdm import tqdm\n",
    "from scipy import stats\n",
    "import matplotlib.pyplot as plt\n",
    "from compute_tempo_aist import *\n",
    "\n",
    "# coco={    \n",
    "# 0: \"nose\", 1: \"left_eye\", 2: \"right_eye\", 3: \"left_ear\",4: \"right_ear\",5: \"left_shoulder\",\n",
    "# 6: \"right_shoulder\",7: \"left_elbow\",8: \"right_elbow\",9: \"left_wrist\",10: \"right_wrist\",\n",
    "# 11: \"left_hip\",12: \"right_hip\",13: \"left_knee\",14: \"right_knee\",15: \"left_ankle\",16: \"right_ankle\",}  \n",
    "\n",
    "# # cp ./video/gKR_sBM_c01_d28_mKR3_ch03.mp4 ./"
   ]
  },
  {
   "cell_type": "code",
   "execution_count": 2,
   "metadata": {},
   "outputs": [
    {
     "name": "stderr",
     "output_type": "stream",
     "text": [
      "100%|██████████| 1510/1510 [00:43<00:00, 34.39it/s]\n"
     ]
    },
    {
     "name": "stdout",
     "output_type": "stream",
     "text": [
      "Results saved to ./results/aist_vel1s/z-score/tempo_70_145/hand/left_wrist_zero_uni_70_145.csv\n"
     ]
    },
    {
     "name": "stderr",
     "output_type": "stream",
     "text": [
      "100%|██████████| 1510/1510 [00:45<00:00, 33.14it/s]\n"
     ]
    },
    {
     "name": "stdout",
     "output_type": "stream",
     "text": [
      "Results saved to ./results/aist_vel1s/z-score/tempo_70_145/hand/right_wrist_zero_uni_70_145.csv\n"
     ]
    },
    {
     "name": "stderr",
     "output_type": "stream",
     "text": [
      "100%|██████████| 1510/1510 [00:43<00:00, 35.03it/s]\n"
     ]
    },
    {
     "name": "stdout",
     "output_type": "stream",
     "text": [
      "Results saved to ./results/aist_vel1s/z-score/tempo_70_145/hand/left_wrist_zero_bi_70_145.csv\n"
     ]
    },
    {
     "name": "stderr",
     "output_type": "stream",
     "text": [
      "100%|██████████| 1510/1510 [00:41<00:00, 36.64it/s]\n"
     ]
    },
    {
     "name": "stdout",
     "output_type": "stream",
     "text": [
      "Results saved to ./results/aist_vel1s/z-score/tempo_70_145/hand/right_wrist_zero_bi_70_145.csv\n"
     ]
    },
    {
     "name": "stderr",
     "output_type": "stream",
     "text": [
      "100%|██████████| 1510/1510 [00:40<00:00, 37.55it/s]\n"
     ]
    },
    {
     "name": "stdout",
     "output_type": "stream",
     "text": [
      "Results saved to ./results/aist_vel1s/z-score/tempo_70_145/foot/left_ankle_zero_uni_70_145.csv\n"
     ]
    },
    {
     "name": "stderr",
     "output_type": "stream",
     "text": [
      "100%|██████████| 1510/1510 [00:43<00:00, 34.39it/s]\n"
     ]
    },
    {
     "name": "stdout",
     "output_type": "stream",
     "text": [
      "Results saved to ./results/aist_vel1s/z-score/tempo_70_145/foot/right_ankle_zero_uni_70_145.csv\n"
     ]
    },
    {
     "name": "stderr",
     "output_type": "stream",
     "text": [
      "100%|██████████| 1510/1510 [00:41<00:00, 36.63it/s]\n"
     ]
    },
    {
     "name": "stdout",
     "output_type": "stream",
     "text": [
      "Results saved to ./results/aist_vel1s/z-score/tempo_70_145/foot/left_ankle_zero_bi_70_145.csv\n"
     ]
    },
    {
     "name": "stderr",
     "output_type": "stream",
     "text": [
      "100%|██████████| 1510/1510 [00:44<00:00, 33.85it/s]\n"
     ]
    },
    {
     "name": "stdout",
     "output_type": "stream",
     "text": [
      "Results saved to ./results/aist_vel1s/z-score/tempo_70_145/foot/right_ankle_zero_bi_70_145.csv\n"
     ]
    },
    {
     "name": "stderr",
     "output_type": "stream",
     "text": [
      "100%|██████████| 1510/1510 [01:00<00:00, 25.07it/s]\n"
     ]
    },
    {
     "name": "stdout",
     "output_type": "stream",
     "text": [
      "Results saved to ./results/aist_vel1s/z-score/tempo_60_180/hand/left_wrist_zero_uni_60_180.csv\n"
     ]
    },
    {
     "name": "stderr",
     "output_type": "stream",
     "text": [
      "100%|██████████| 1510/1510 [01:00<00:00, 25.01it/s]\n"
     ]
    },
    {
     "name": "stdout",
     "output_type": "stream",
     "text": [
      "Results saved to ./results/aist_vel1s/z-score/tempo_60_180/hand/right_wrist_zero_uni_60_180.csv\n"
     ]
    },
    {
     "name": "stderr",
     "output_type": "stream",
     "text": [
      "100%|██████████| 1510/1510 [00:58<00:00, 25.78it/s]\n"
     ]
    },
    {
     "name": "stdout",
     "output_type": "stream",
     "text": [
      "Results saved to ./results/aist_vel1s/z-score/tempo_60_180/hand/left_wrist_zero_bi_60_180.csv\n"
     ]
    },
    {
     "name": "stderr",
     "output_type": "stream",
     "text": [
      "100%|██████████| 1510/1510 [00:57<00:00, 26.33it/s]\n"
     ]
    },
    {
     "name": "stdout",
     "output_type": "stream",
     "text": [
      "Results saved to ./results/aist_vel1s/z-score/tempo_60_180/hand/right_wrist_zero_bi_60_180.csv\n"
     ]
    },
    {
     "name": "stderr",
     "output_type": "stream",
     "text": [
      "100%|██████████| 1510/1510 [00:59<00:00, 25.32it/s]\n"
     ]
    },
    {
     "name": "stdout",
     "output_type": "stream",
     "text": [
      "Results saved to ./results/aist_vel1s/z-score/tempo_60_180/foot/left_ankle_zero_uni_60_180.csv\n"
     ]
    },
    {
     "name": "stderr",
     "output_type": "stream",
     "text": [
      "100%|██████████| 1510/1510 [00:57<00:00, 26.09it/s]\n"
     ]
    },
    {
     "name": "stdout",
     "output_type": "stream",
     "text": [
      "Results saved to ./results/aist_vel1s/z-score/tempo_60_180/foot/right_ankle_zero_uni_60_180.csv\n"
     ]
    },
    {
     "name": "stderr",
     "output_type": "stream",
     "text": [
      "100%|██████████| 1510/1510 [00:57<00:00, 26.09it/s]\n"
     ]
    },
    {
     "name": "stdout",
     "output_type": "stream",
     "text": [
      "Results saved to ./results/aist_vel1s/z-score/tempo_60_180/foot/left_ankle_zero_bi_60_180.csv\n"
     ]
    },
    {
     "name": "stderr",
     "output_type": "stream",
     "text": [
      "100%|██████████| 1510/1510 [01:04<00:00, 23.55it/s]"
     ]
    },
    {
     "name": "stdout",
     "output_type": "stream",
     "text": [
      "Results saved to ./results/aist_vel1s/z-score/tempo_60_180/foot/right_ankle_zero_bi_60_180.csv\n"
     ]
    },
    {
     "name": "stderr",
     "output_type": "stream",
     "text": [
      "\n"
     ]
    }
   ],
   "source": [
    "from aist_pos1s_script import *\n",
    "\n",
    "# a = 70; b =145\n",
    "# sub_dir = \"foot\"\n",
    "# mode = \"zero_bi\"   # zero_uni\n",
    "# markerA_id = 16          # 9: \"left_wrist\", 10: \"right_wrist\", 15: \"left_ankle\", 16: \"right_ankle\"\n",
    "marker_dict = {9: \"left_wrist\", 10: \"right_wrist\", \n",
    "                15: \"left_ankle\", 16: \"right_ankle\", \n",
    "                }   # 11: \"left_hip\",12: \"right_hip\"\n",
    "\n",
    "config1 = {\"sub_dir\": [\"hand\"], \"mode\": [\"zero_uni\", \"zero_bi\"], \"markerA_id\": [9, 10], \"a\": 70, \"b\": 145}\n",
    "config2 = {\"sub_dir\": [\"foot\"], \"mode\": [\"zero_uni\", \"zero_bi\"], \"markerA_id\": [15, 16], \"a\": 70, \"b\": 145}\n",
    "config3 = {\"sub_dir\": [\"hand\"], \"mode\": [\"zero_uni\", \"zero_bi\"], \"markerA_id\": [9, 10], \"a\": 60, \"b\": 180}\n",
    "config4 = {\"sub_dir\": [\"foot\"], \"mode\": [\"zero_uni\", \"zero_bi\"], \"markerA_id\": [15, 16], \"a\": 60, \"b\": 180}\n",
    "\n",
    "\n",
    "\n",
    "# Combine configurations into a list for easy iteration\n",
    "configs = [config1, config2, config3, config4]\n",
    "\n",
    "# Iterate over each configuration and generate all combinations\n",
    "for cfg in configs:\n",
    "    a = cfg[\"a\"]\n",
    "    b = cfg[\"b\"]\n",
    "    for sub_dir in cfg[\"sub_dir\"]:\n",
    "        for mode in cfg[\"mode\"]:\n",
    "            for markerA_id in cfg[\"markerA_id\"]:\n",
    "                csv_filename = f\"./results/aist_vel1s/z-score/tempo_{a}_{b}/{sub_dir}/{marker_dict[markerA_id]}_{mode}_{a}_{b}.csv\"\n",
    "                aist_pos1s(a, b, mode, markerA_id, csv_filename)"
   ]
  },
  {
   "cell_type": "code",
   "execution_count": null,
   "metadata": {},
   "outputs": [],
   "source": [
    "f_path = \"./aist_dataset/aist_annotation/keypoints2d\"\n",
    "aist_filelist = os.listdir(f_path)\n",
    "markerA_id = 16\n",
    "for idx, filename in enumerate(tqdm(aist_filelist)):\n",
    "    \n",
    "    file_path = os.path.join(f_path, filename)\n",
    "    with open(file_path, 'rb') as file:\n",
    "        motion_data = pickle.load(file)\n",
    "\n",
    "    markerA_x = motion_data[\"keypoints2d\"][0, :, markerA_id, 0]     # array (n,)\n",
    "    # markerA_y = motion_data[\"keypoints2d\"][0, :, markerA_id, 1]      # array (n,)\n",
    "    \n",
    "    markerA_x = detrend_signal_array(markerA_x.reshape(-1, 1), cutoff= 0.6, fs=60)\n",
    "    \n",
    "    # # min max -1 to 1\n",
    "    # x_min, x_max = np.min(markerA_x), np.max(markerA_x)\n",
    "    # markerA_pos_norm = (\n",
    "    #     2 * (markerA_x - x_min) / (x_max - x_min) - 1\n",
    "    #     if x_max != x_min  # Avoid division by zero\n",
    "    #     else np.zeros_like(markerA_x)\n",
    "    # )\n",
    "    \n",
    "    # z-score\n",
    "    mean_x = np.mean(markerA_x)\n",
    "    std_x = np.std(markerA_x)\n",
    "    \n",
    "    markerA_pos_norm = (\n",
    "    (markerA_x - mean_x) / std_x if std_x != 0 else np.zeros_like(markerA_x)\n",
    "    )\n",
    "    # markerA_vel_norm = np.diff(markerA_pos_norm)\n",
    "    smooth = smooth_velocity(markerA_pos_norm.reshape(-1,1), abs=\"no\", window_length = 10, polyorder = 0)\n",
    "    \n",
    "    plt.figure(figsize=(4, 3))\n",
    "    plt.plot(smooth)\n",
    "    plt.plot(np.diff(smooth, axis=0))\n",
    "    plt.show()\n",
    "    print(idx)\n",
    "    if idx == 2:\n",
    "        break"
   ]
  },
  {
   "cell_type": "code",
   "execution_count": null,
   "metadata": {},
   "outputs": [],
   "source": [
    "result = {\n",
    "    \"filename\": [],\n",
    "    \"dance_genre\": [],\n",
    "    \"situation\": [],\n",
    "    \"camera_id\": [],\n",
    "    \"dancer_id\": [],\n",
    "    \"music_id\": [],\n",
    "    \"choreo_id\": [],\n",
    "    \"music_tempo\": [],\n",
    "\n",
    "    \"X_a\": [],\n",
    "    \"Y_a\": [],\n",
    "\n",
    "    \"bpm_mode\": [],\n",
    "    \"bpm_median\": [],\n",
    "    \"mode_x\": [],\n",
    "    \"mode_y\": [],\n",
    "\n",
    "    \"median_x\": [],\n",
    "    \"median_y\": [],\n",
    "\n",
    "}\n",
    "\n",
    "json_filename = \"music_id_tempo.json\"\n",
    "with open(json_filename, \"r\") as file:\n",
    "    aist_tempo = json.load(file)\n",
    "\n",
    "f_path = \"./aist_dataset/aist_annotation/keypoints2d\"\n",
    "aist_filelist = os.listdir(f_path)\n",
    "\n",
    "mocap_fps = 60\n",
    "a = 70; b =145\n",
    "tempi_range = np.arange(a,b,1)   # good: 70,145 \n",
    "\n",
    "marker_dict = {9: \"left_wrist\", 10: \"right_wrist\", \n",
    "               15: \"left_ankle\", 16: \"right_ankle\", \n",
    "               11: \"left_hip\",12: \"right_hip\"}\n",
    "\n",
    "\n",
    "sub_dir = \"foot\"\n",
    "mode = \"zero_bi\"\n",
    "markerA_id = 16          # 9: \"left_wrist\", 10: \"right_wrist\", 15: \"left_ankle\", 16: \"right_ankle\"\n",
    "csv_filename = f\"./results/aist_pos1s/z-score/tempo_{a}_{b}/{sub_dir}/{marker_dict[markerA_id]}_{mode}_{a}_{b}.csv\"        \n",
    "\n",
    "for idx, filename in enumerate(tqdm(aist_filelist)):\n",
    "    \n",
    "    file_path = os.path.join(f_path, filename)\n",
    "    file_info = filename.split(\"_\")\n",
    "    dance_genre = file_info[0] \n",
    "    situation = file_info[1] \n",
    "    camera_id = file_info[2] \n",
    "    dancer_id = file_info[3]\n",
    "    music_id = file_info[4]\n",
    "    choreo_id = file_info[5].strip(\".pkl\")\n",
    "    \n",
    "    with open(file_path, 'rb') as file:\n",
    "        motion_data = pickle.load(file)\n",
    "\n",
    "    markerA_x = motion_data[\"keypoints2d\"][0, :, markerA_id, 0]     # array (n,)\n",
    "    markerA_y = motion_data[\"keypoints2d\"][0, :, markerA_id, 1]      # array (n,)\n",
    "    \n",
    "    \n",
    "\n",
    "    if np.all((markerA_x == 0) & (markerA_y == 0)) or np.any(np.isnan(markerA_x) | np.isnan(markerA_y)):\n",
    "        continue\n",
    "    \n",
    "    markerA_x = detrend_signal_array(markerA_x.reshape(-1, 1), cutoff= 1, fs=60)\n",
    "    markerA_y = detrend_signal_array(markerA_y.reshape(-1, 1), cutoff= 1, fs=60)\n",
    "    markerA_pos = np.concatenate((markerA_x, markerA_y), axis=1)  # size (n,2)\n",
    "    \n",
    "    duration = int(len(markerA_x)/60)\n",
    "    w_sec = int(duration)\n",
    "    h_sec = int(w_sec/4)\n",
    "    window_size = int(mocap_fps*w_sec)\n",
    "    hop_size = int(mocap_fps*h_sec)\n",
    "    \n",
    "    bpm_axes = []\n",
    "    for ax in range(2):\n",
    "        # min max -1 to 1\n",
    "        # x_min, x_max = np.min(markerA_pos[:, ax]), np.max(markerA_pos[:, ax])\n",
    "        # markerA_pos_norm = (\n",
    "        #     2 * (markerA_pos[:, ax] - x_min) / (x_max - x_min) - 1\n",
    "        #     if x_max != x_min  # Avoid division by zero\n",
    "        #     else np.zeros_like(markerA_pos[:, ax])\n",
    "        # )\n",
    "        \n",
    "        # z-score\n",
    "        mean_x = np.mean(markerA_pos[:, ax])\n",
    "        std_x = np.std(markerA_pos[:, ax])\n",
    "        \n",
    "        markerA_pos_norm = (\n",
    "        (markerA_pos[:, ax] - mean_x) / std_x if std_x != 0 else np.zeros_like(markerA_pos[:, ax])\n",
    "        )\n",
    "\n",
    "        markerA_ax = markerA_pos_norm.reshape(-1,1)\n",
    "              \n",
    "        tempo_json_one_sensor = main_one_sensor_peraxis(markerA_ax,\n",
    "                                                        mocap_fps, window_size, hop_size, tempi_range, \n",
    "                                                        T_filter=0.25, smooth_wlen= 10, pk_order = 15 ,mode= mode)\n",
    "\n",
    "        \n",
    "        sensor_onsets = tempo_json_one_sensor[\"sensor_onsets\"]\n",
    "        tempo_data_maxmethod = tempo_json_one_sensor[\"tempo_data_maxmethod\"]\n",
    "        bpmA_arr = tempo_data_maxmethod[\"bpm_arr\"]\n",
    "        tempo_A = np.round(np.average(bpmA_arr), 2)\n",
    "        bpm_axes.append(bpmA_arr)\n",
    "        \n",
    "        mode_x = stats.mode(bpmA_arr.flatten())[0]\n",
    "        mode_y = stats.mode(bpmA_arr.flatten())[0]\n",
    "\n",
    "        median_x = np.median(bpmA_arr.flatten())\n",
    "        median_y = np.median(bpmA_arr.flatten())\n",
    "\n",
    "        \n",
    "        if ax == 0:\n",
    "            result[\"filename\"].append(filename.strip(\".pkl\"))\n",
    "            result[\"dance_genre\"].append(dance_genre)\n",
    "            result[\"situation\"].append(situation)\n",
    "            result[\"camera_id\"].append(camera_id)\n",
    "            result[\"dancer_id\"].append(dancer_id)\n",
    "            result[\"music_id\"].append(music_id)\n",
    "            result[\"choreo_id\"].append(choreo_id)\n",
    "            result[\"music_tempo\"].append(aist_tempo[music_id])\n",
    "            \n",
    "            result[\"mode_x\"].append(mode_x)\n",
    "            result[\"mode_y\"].append(mode_y)\n",
    "\n",
    "            \n",
    "            result[\"median_x\"].append(median_x)\n",
    "            result[\"median_y\"].append(median_y)\n",
    "\n",
    "            \n",
    "            result[\"X_a\"].append(tempo_A)\n",
    "\n",
    "        elif ax == 1:\n",
    "            result[\"Y_a\"].append(tempo_A)\n",
    "\n",
    "    bpm_axes_arr = np.column_stack(bpm_axes)    # n by 3 array\n",
    "    bpm_mode = stats.mode(bpm_axes_arr.flatten())[0]\n",
    "    bpm_median = np.median(bpm_axes_arr.flatten())\n",
    "    result[\"bpm_mode\"].append(bpm_mode)\n",
    "    result[\"bpm_median\"].append(bpm_median)    \n",
    "    \n",
    "    \n",
    "results_df = pd.DataFrame(result)\n",
    "results_df.to_csv(csv_filename, index=False)\n",
    "print(f\"Results saved to {csv_filename}\")\n",
    "\n",
    "\n"
   ]
  },
  {
   "cell_type": "code",
   "execution_count": null,
   "metadata": {},
   "outputs": [],
   "source": [
    "print(markerA_ax.shape)\n",
    "print(sensor_onsets.shape)\n",
    "# print()"
   ]
  },
  {
   "cell_type": "code",
   "execution_count": null,
   "metadata": {},
   "outputs": [],
   "source": [
    "# Extract x and y positions for the given keypoint\n",
    "markerA_x = motion_data[\"keypoints2d\"][0, :, 10, 0]\n",
    "markerA_y = motion_data[\"keypoints2d\"][0, :, 10, 1]\n",
    "\n",
    "# Normalize x and y to [0,1] range\n",
    "x_min, x_max = np.min(markerA_x), np.max(markerA_x)\n",
    "y_min, y_max = np.min(markerA_y), np.max(markerA_y)\n",
    "\n",
    "x_norm = (markerA_x - x_min) / (x_max - x_min) if x_max != x_min else np.zeros_like(markerA_x)\n",
    "y_norm = (markerA_y - y_min) / (y_max - y_min) if y_max != y_min else np.zeros_like(markerA_y)\n",
    "\n",
    "# Smooth the normalized position data\n",
    "xs = smooth_velocity(x_norm.reshape(-1, 1), abs=\"no\", window_length=10, polyorder=0)\n",
    "ys = smooth_velocity(y_norm.reshape(-1, 1), abs=\"no\", window_length=10, polyorder=0)\n",
    "\n",
    "\n",
    "# Plot position and velocity\n",
    "fig, axs = plt.subplots(1, 2, figsize=(10, 4), dpi=100)\n",
    "fig.suptitle('Position and Velocity')\n",
    "\n",
    "# Position plots\n",
    "axs[0].plot(xs, label=\"x position\")\n",
    "axs[1].plot(ys, label=\"y position\")\n",
    "axs[0].set_title(\"X Position\")\n",
    "axs[1].set_title(\"Y Position\")\n",
    "\n",
    "# Formatting\n",
    "for ax in axs.flat:\n",
    "    ax.legend()\n",
    "    ax.grid(True)\n",
    "\n",
    "plt.tight_layout()\n",
    "plt.show()\n"
   ]
  }
 ],
 "metadata": {
  "kernelspec": {
   "display_name": "base",
   "language": "python",
   "name": "python3"
  },
  "language_info": {
   "codemirror_mode": {
    "name": "ipython",
    "version": 3
   },
   "file_extension": ".py",
   "mimetype": "text/x-python",
   "name": "python",
   "nbconvert_exporter": "python",
   "pygments_lexer": "ipython3",
   "version": "3.12.9"
  }
 },
 "nbformat": 4,
 "nbformat_minor": 2
}
